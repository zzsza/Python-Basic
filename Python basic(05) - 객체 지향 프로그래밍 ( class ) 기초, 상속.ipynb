{
 "cells": [
  {
   "cell_type": "markdown",
   "metadata": {
    "collapsed": true
   },
   "source": [
    "여태까지 배운 것은 절차 지향 프로그램이이였음\n",
    "\n",
    "이런 절차 지향 프로그램은 모든 것에 대해 처리를 해줘야하기 때문에 유지보수 측면에서 어려움\n",
    "\n",
    "\n",
    "이를 해결하기 위해 나온 것이 객체 지향 프로그래밍\n",
    "\n",
    "\n",
    "객체 지향 프로그래밍 ( object oriented programing )\n",
    "\n",
    "객체가 데이터를 가지고 있고, 각각의 데이터를 처리하는 방법을 알고 있음\n",
    "\n",
    "\n",
    "객체와 객체 사이에 서로 메세지를 전달 가능\n",
    "\n",
    "\n",
    "웹프스의 경우 객체 지향적인 프로그래밍을 많이 할 것이고\n",
    "\n",
    "데사스의 경우 절차 지향적인 프로그래밍을 많이 할 것임 => 이미 만들어져 있음\n",
    "\n",
    "(실험 => 완벽하게 적합한 알고리즘을 찾는 과정)\n",
    "\n",
    "하지만 둘 다 알고 있어야 함..!!\n",
    "\n",
    "데이터 세부적인 내용은 객체지향으로 짜야 더 좋다는 것을 알아둬야 함\n",
    "\n",
    "\n",
    " 함수형 프로그래밍\n",
    ": 연산도 함수, 객체도 함수...\n",
    "    => lambda, list comprehension... 스칼라"
   ]
  },
  {
   "cell_type": "code",
   "execution_count": 2,
   "metadata": {
    "collapsed": true
   },
   "outputs": [],
   "source": [
    "# 생활에서 보이는 모든 것들은 다 객체 지향이라고 보면 됨\n",
    "# 학생이라는 객체를 만들고 싶다!\n",
    "\n",
    "# 변성윤이란 학생을 만들고 싶다면\n",
    "# 학생이 무엇인가?\n",
    "\n",
    "class Student():\n",
    "    name = \"\"\n",
    "    age = \"\"\n",
    "\n",
    "    # 아직 개념적으로만 존재. "
   ]
  },
  {
   "cell_type": "code",
   "execution_count": null,
   "metadata": {
    "collapsed": true
   },
   "outputs": [],
   "source": [
    "zzsza = Student() # 이제 실질적으로 객체가 만들어짐\n",
    "\n",
    "zzsza.name = \"변성윤\"\n",
    "zzsza.age = \"27\""
   ]
  },
  {
   "cell_type": "code",
   "execution_count": 10,
   "metadata": {
    "collapsed": false
   },
   "outputs": [
    {
     "name": "stdout",
     "output_type": "stream",
     "text": [
      "변성윤\n"
     ]
    }
   ],
   "source": [
    "print(zzsza.name)"
   ]
  },
  {
   "cell_type": "code",
   "execution_count": 12,
   "metadata": {
    "collapsed": true
   },
   "outputs": [],
   "source": [
    "# 자기 소개를 할 수 있다는 것을 알게 됨\n",
    "\n",
    "\n",
    "class Student():\n",
    "    name = \"\"\n",
    "    age = \"\"\n",
    "    \n",
    "    def introduce(self): # self : 객체 자기 자신을 뜻함\n",
    "        print(\"안녕하세요, 저는 {age}살 {name}입니다.\".format(\n",
    "            age=self.age,\n",
    "            name=self.name\n",
    "            ))"
   ]
  },
  {
   "cell_type": "code",
   "execution_count": 14,
   "metadata": {
    "collapsed": false
   },
   "outputs": [
    {
     "name": "stdout",
     "output_type": "stream",
     "text": [
      "안녕하세요, 저는 27살 변성윤입니다.\n"
     ]
    }
   ],
   "source": [
    "zzsza = Student()\n",
    "zzsza.name = \"변성윤\"\n",
    "zzsza.age = \"27\"\n",
    "zzsza.introduce()"
   ]
  },
  {
   "cell_type": "code",
   "execution_count": 15,
   "metadata": {
    "collapsed": true
   },
   "outputs": [],
   "source": [
    "# 지금 코드는 문제가 있음\n",
    "# 학생이면 무조건 나이와 이름이 있어야 힘\n",
    "# 이름을 입력하지 않으면 객체가 만들어지지 않도록 해야하고\n",
    "# zzsza = Student(\"변성윤\", 27)  이런식으로 만들어져야함\n",
    "\n"
   ]
  },
  {
   "cell_type": "code",
   "execution_count": 20,
   "metadata": {
    "collapsed": true
   },
   "outputs": [],
   "source": [
    "class Student():\n",
    "\n",
    "    def __init__(self, name, age) :  # 학생을 만드는 시점에 반드시 __init__ 실행\n",
    "        self.name = name\n",
    "        self.age = age\n",
    "        print(\"학생 {name}({age})가 태어났습니다.\".format(\n",
    "            name = self.name,\n",
    "            age = self.age\n",
    "        ))\n",
    "    \n",
    "    def introduce(self): # self : 객체 자기 자신을 뜻함\n",
    "        print(\"안녕하세요, 저는 {age}살 {name}입니다.\".format(\n",
    "            age=self.age,\n",
    "            name=self.name\n",
    "            ))"
   ]
  },
  {
   "cell_type": "code",
   "execution_count": 18,
   "metadata": {
    "collapsed": false
   },
   "outputs": [
    {
     "ename": "TypeError",
     "evalue": "__init__() missing 2 required positional arguments: 'name' and 'age'",
     "output_type": "error",
     "traceback": [
      "\u001b[1;31m---------------------------------------------------------------------------\u001b[0m",
      "\u001b[1;31mTypeError\u001b[0m                                 Traceback (most recent call last)",
      "\u001b[1;32m<ipython-input-18-268908771b30>\u001b[0m in \u001b[0;36m<module>\u001b[1;34m()\u001b[0m\n\u001b[1;32m----> 1\u001b[1;33m \u001b[0mzzsza\u001b[0m \u001b[1;33m=\u001b[0m \u001b[0mStudent\u001b[0m\u001b[1;33m(\u001b[0m\u001b[1;33m)\u001b[0m \u001b[1;31m# 에러가 나옴\u001b[0m\u001b[1;33m\u001b[0m\u001b[0m\n\u001b[0m",
      "\u001b[1;31mTypeError\u001b[0m: __init__() missing 2 required positional arguments: 'name' and 'age'"
     ]
    }
   ],
   "source": [
    "zzsza = Student() # 에러가 나옴"
   ]
  },
  {
   "cell_type": "code",
   "execution_count": 17,
   "metadata": {
    "collapsed": false
   },
   "outputs": [
    {
     "name": "stdout",
     "output_type": "stream",
     "text": [
      "학생 변성윤(27)가 태어났습니다.\n"
     ]
    }
   ],
   "source": [
    "zzsza = Student(\"변성윤\", \"27\")"
   ]
  },
  {
   "cell_type": "code",
   "execution_count": 19,
   "metadata": {
    "collapsed": false
   },
   "outputs": [
    {
     "name": "stdout",
     "output_type": "stream",
     "text": [
      "안녕하세요, 저는 27살 변성윤입니다.\n"
     ]
    }
   ],
   "source": [
    "zzsza.introduce()"
   ]
  },
  {
   "cell_type": "code",
   "execution_count": 25,
   "metadata": {
    "collapsed": true
   },
   "outputs": [],
   "source": [
    "class Student():\n",
    "    campus = \"패스트 캠퍼스\"\n",
    "    \n",
    "    def __init__(self, name, age) :  \n",
    "        self.name = name\n",
    "        self.age = age\n",
    "        print(\"학생 {name}({age})가 태어났습니다.\".format(\n",
    "            name = self.name,\n",
    "            age = self.age\n",
    "        ))\n",
    "    \n",
    "    def introduce(self): # self : 객체 자기 자신을 뜻함\n",
    "        print(\"안녕하세요, 저는 {campus}에 다니는 {age}살 {name}입니다.\".format(\n",
    "            campus = self.campus,\n",
    "            age=self.age,\n",
    "            name=self.name\n",
    "            ))"
   ]
  },
  {
   "cell_type": "code",
   "execution_count": 27,
   "metadata": {
    "collapsed": false
   },
   "outputs": [
    {
     "name": "stdout",
     "output_type": "stream",
     "text": [
      "학생 변성윤(27)가 태어났습니다.\n",
      "안녕하세요, 저는 패스트 캠퍼스에 다니는 27살 변성윤입니다.\n"
     ]
    }
   ],
   "source": [
    "zzsza = Student(\"변성윤\", \"27\")\n",
    "zzsza.introduce()\n",
    "\n",
    "# zzsza.campus = \"~~~~\" 이렇게 강제로 바꿀 수 있는 단점이 존재함"
   ]
  },
  {
   "cell_type": "code",
   "execution_count": 28,
   "metadata": {
    "collapsed": false
   },
   "outputs": [
    {
     "data": {
      "text/plain": [
       "['__class__',\n",
       " '__delattr__',\n",
       " '__dict__',\n",
       " '__dir__',\n",
       " '__doc__',\n",
       " '__eq__',\n",
       " '__format__',\n",
       " '__ge__',\n",
       " '__getattribute__',\n",
       " '__gt__',\n",
       " '__hash__',\n",
       " '__init__',\n",
       " '__le__',\n",
       " '__lt__',\n",
       " '__module__',\n",
       " '__ne__',\n",
       " '__new__',\n",
       " '__reduce__',\n",
       " '__reduce_ex__',\n",
       " '__repr__',\n",
       " '__setattr__',\n",
       " '__sizeof__',\n",
       " '__str__',\n",
       " '__subclasshook__',\n",
       " '__weakref__',\n",
       " 'age',\n",
       " 'campus',\n",
       " 'introduce',\n",
       " 'name']"
      ]
     },
     "execution_count": 28,
     "metadata": {},
     "output_type": "execute_result"
    }
   ],
   "source": [
    "# private => 객체 내부에서만 호출할 수 있는 변수가 존재함!\n",
    "# 이건 기본 파이썬에선 안되는데, 만드는 방법이 존재함\n",
    "dir(zzsza)"
   ]
  },
  {
   "cell_type": "code",
   "execution_count": 29,
   "metadata": {
    "collapsed": true
   },
   "outputs": [],
   "source": [
    "# 클래스 내에서 변수 앞에 __를 붙이면 됨"
   ]
  },
  {
   "cell_type": "code",
   "execution_count": 30,
   "metadata": {
    "collapsed": true
   },
   "outputs": [],
   "source": [
    "class Student():\n",
    "    __campus = \"패스트 캠퍼스\" # 내부에서만 사용해야되겠다!\n",
    "    \n",
    "    def __init__(self, name, age) :  \n",
    "        self.name = name\n",
    "        self.age = age\n",
    "        print(\"학생 {name}({age})가 태어났습니다.\".format(\n",
    "            name = self.name,\n",
    "            age = self.age\n",
    "        ))\n",
    "    \n",
    "    def introduce(self): # self : 객체 자기 자신을 뜻함\n",
    "        print(\"안녕하세요, 저는 {campus}에 다니는 {age}살 {name}입니다.\".format(\n",
    "            campus = self.campus,\n",
    "            age=self.age,\n",
    "            name=self.name\n",
    "            ))"
   ]
  },
  {
   "cell_type": "code",
   "execution_count": null,
   "metadata": {
    "collapsed": true
   },
   "outputs": [],
   "source": []
  },
  {
   "cell_type": "code",
   "execution_count": null,
   "metadata": {
    "collapsed": true
   },
   "outputs": [],
   "source": []
  },
  {
   "cell_type": "code",
   "execution_count": null,
   "metadata": {
    "collapsed": true
   },
   "outputs": [],
   "source": []
  },
  {
   "cell_type": "code",
   "execution_count": 31,
   "metadata": {
    "collapsed": true
   },
   "outputs": [],
   "source": [
    "# 쉬운 예제로, 직사각형에 대한 예제"
   ]
  },
  {
   "cell_type": "code",
   "execution_count": 49,
   "metadata": {
    "collapsed": true
   },
   "outputs": [],
   "source": [
    "class Rectangle():\n",
    "\n",
    "    def __init__(self, width, height):\n",
    "        self.width = width\n",
    "        self.height = height\n",
    "    \n",
    "    \n",
    "    def area(self):\n",
    "        return self.width * self.height\n",
    "        \n",
    "    def girth(self):\n",
    "        return 2*(self.width+self.height)\n",
    "    \n",
    "    def is_bigger(self, another):\n",
    "        if self.area() - another.area() >= 0:\n",
    "            print(\"내가 더 큼\")\n",
    "        else:\n",
    "            print(\"내가 더 작음\")"
   ]
  },
  {
   "cell_type": "code",
   "execution_count": 40,
   "metadata": {
    "collapsed": false
   },
   "outputs": [],
   "source": [
    "a = Rectangle(2,3)"
   ]
  },
  {
   "cell_type": "code",
   "execution_count": 41,
   "metadata": {
    "collapsed": false
   },
   "outputs": [
    {
     "data": {
      "text/plain": [
       "6"
      ]
     },
     "execution_count": 41,
     "metadata": {},
     "output_type": "execute_result"
    }
   ],
   "source": [
    "a.area()"
   ]
  },
  {
   "cell_type": "code",
   "execution_count": 42,
   "metadata": {
    "collapsed": false
   },
   "outputs": [
    {
     "data": {
      "text/plain": [
       "10"
      ]
     },
     "execution_count": 42,
     "metadata": {},
     "output_type": "execute_result"
    }
   ],
   "source": [
    "a.girth()"
   ]
  },
  {
   "cell_type": "code",
   "execution_count": 50,
   "metadata": {
    "collapsed": false
   },
   "outputs": [
    {
     "name": "stdout",
     "output_type": "stream",
     "text": [
      "내가 더 작음\n"
     ]
    }
   ],
   "source": [
    "rec1 = Rectangle(10, 20)\n",
    "rec2 = Rectangle(20, 30)\n",
    "\n",
    "rec1.is_bigger(rec2)"
   ]
  },
  {
   "cell_type": "code",
   "execution_count": 51,
   "metadata": {
    "collapsed": true
   },
   "outputs": [],
   "source": [
    "# class ( rectangle ) => 명세; 붕어빵들, 이데아\n",
    "# 객체 (rec1, rec2 ) => 실제 있는 애, 붕어빵, ...\n",
    "\n"
   ]
  },
  {
   "cell_type": "code",
   "execution_count": 58,
   "metadata": {
    "collapsed": true
   },
   "outputs": [],
   "source": [
    "class Person():\n",
    "    \n",
    "    def __init__(self, name, money):\n",
    "        self.name = name\n",
    "        self.money = money\n",
    "        \n",
    "    def send_money(self, to, amount):\n",
    "        print(\"{to_name} 한테 {amount}원 만큼 돈을 보냅니다.\".format(\n",
    "            to_name = to.name,\n",
    "            amount = amount,\n",
    "        ))\n",
    "        self.money -= amount\n",
    "        to.money += amount\n",
    "        "
   ]
  },
  {
   "cell_type": "code",
   "execution_count": 59,
   "metadata": {
    "collapsed": false
   },
   "outputs": [],
   "source": [
    "person1 = Person(\"돈 빌려준 사람\", 1000)\n",
    "person2 = Person(\"돈 빌린 사람\", 500)"
   ]
  },
  {
   "cell_type": "code",
   "execution_count": 60,
   "metadata": {
    "collapsed": false
   },
   "outputs": [
    {
     "name": "stdout",
     "output_type": "stream",
     "text": [
      "돈 빌려준 사람 한테 500원 만큼 돈을 보냅니다.\n"
     ]
    }
   ],
   "source": [
    "person2.send_money(person1, 500)"
   ]
  },
  {
   "cell_type": "code",
   "execution_count": 61,
   "metadata": {
    "collapsed": false
   },
   "outputs": [
    {
     "data": {
      "text/plain": [
       "1500"
      ]
     },
     "execution_count": 61,
     "metadata": {},
     "output_type": "execute_result"
    }
   ],
   "source": [
    "person1.money"
   ]
  },
  {
   "cell_type": "code",
   "execution_count": 63,
   "metadata": {
    "collapsed": false
   },
   "outputs": [
    {
     "data": {
      "text/plain": [
       "0"
      ]
     },
     "execution_count": 63,
     "metadata": {},
     "output_type": "execute_result"
    }
   ],
   "source": [
    "person2.money"
   ]
  },
  {
   "cell_type": "code",
   "execution_count": 3,
   "metadata": {
    "collapsed": true
   },
   "outputs": [],
   "source": [
    "class Student():\n",
    "    \n",
    "    def __init__(self, name, address):\n",
    "        self.name = name\n",
    "        self.address = address\n",
    "        \n",
    "    def introduce(self):\n",
    "        print( \"저는 {address}에 살고 있는 {name}입니다.\".format(\n",
    "            address = self.address,\n",
    "            name = self.name\n",
    "        ))"
   ]
  },
  {
   "cell_type": "code",
   "execution_count": 4,
   "metadata": {
    "collapsed": false
   },
   "outputs": [
    {
     "name": "stdout",
     "output_type": "stream",
     "text": [
      "저는 인천에 살고 있는 변성윤입니다.\n"
     ]
    }
   ],
   "source": [
    "student = Student(\"변성윤\", \"인천\")\n",
    "student.introduce()"
   ]
  },
  {
   "cell_type": "code",
   "execution_count": 5,
   "metadata": {
    "collapsed": false
   },
   "outputs": [
    {
     "name": "stdout",
     "output_type": "stream",
     "text": [
      "저는  부산광역시 다인군 민영열구 7 943 339-902에 살고 있는 전은황입니다.\n",
      "저는  세종특별자치시 홍용세시 임한정거리 5943 7-9 (395-057)에 살고 있는 삼향입니다.\n"
     ]
    }
   ],
   "source": [
    "with open(\"./dss.csv\", \"r\", encoding=\"utf-8\") as f:\n",
    "    student_list = [\n",
    "        Student(\n",
    "            line.split(\",\")[0],\n",
    "            line.split(\",\")[1].replace(\"\\n\", \"\")\n",
    "        )\n",
    "        for line\n",
    "        in f.readlines()\n",
    "        \n",
    "    ]\n",
    "    \n",
    "for student in student_list:\n",
    "    student.introduce()"
   ]
  },
  {
   "cell_type": "markdown",
   "metadata": {
    "collapsed": true
   },
   "source": [
    "# 클래스 상속"
   ]
  },
  {
   "cell_type": "code",
   "execution_count": 9,
   "metadata": {
    "collapsed": true
   },
   "outputs": [],
   "source": [
    "class Student():\n",
    "    \n",
    "    def __init__(self, name):\n",
    "        self.name = name\n",
    "        \n",
    "        \n",
    "    def study(self):\n",
    "        print(\"일반 학생이 공부를 시작합니다.\")\n",
    "        \n",
    "    def coding(self):\n",
    "        print(\"일반 학생은 코딩을 할 수 없습니다.\")\n",
    "        \n",
    "class DataSciencesStudent():\n",
    "    \n",
    "    def __init__(self, name):\n",
    "        self.name = name\n",
    "        \n",
    "        \n",
    "    def study(self):\n",
    "        print(\"일반 학생이 공부를 시작합니다.\")\n",
    "        \n",
    "    def coding(self):\n",
    "        print(\"데이터 사이언스에 대한 코딩을 시작합니다.\")\n",
    "        \n",
    "        \n",
    "class WebProgrammingStudent():\n",
    "    \n",
    "    def __init__(self, name):\n",
    "        self.name = name\n",
    "        \n",
    "        \n",
    "    def study(self):\n",
    "        print(\"일반 학생이 공부를 시작합니다.\")\n",
    "        \n",
    "    def coding(self):\n",
    "        print(\"웹 개발 코딩을 시작합니다.\")\n",
    "               "
   ]
  },
  {
   "cell_type": "code",
   "execution_count": 7,
   "metadata": {
    "collapsed": true
   },
   "outputs": [],
   "source": [
    "student = Student(\"변성윤\")"
   ]
  },
  {
   "cell_type": "code",
   "execution_count": 8,
   "metadata": {
    "collapsed": false
   },
   "outputs": [
    {
     "name": "stdout",
     "output_type": "stream",
     "text": [
      "일반 학생이 공부를 시작합니다.\n",
      "일반 학생은 코딩을 할 수 없습니다.\n"
     ]
    }
   ],
   "source": [
    "student.study()\n",
    "student.coding()"
   ]
  },
  {
   "cell_type": "code",
   "execution_count": 11,
   "metadata": {
    "collapsed": false
   },
   "outputs": [
    {
     "name": "stdout",
     "output_type": "stream",
     "text": [
      "일반 학생이 공부를 시작합니다.\n",
      "웹 개발 코딩을 시작합니다.\n"
     ]
    }
   ],
   "source": [
    "web_programming_student = WebProgrammingStudent(\"웹개발\")\n",
    "web_programming_student.study()\n",
    "web_programming_student.coding()"
   ]
  },
  {
   "cell_type": "code",
   "execution_count": 12,
   "metadata": {
    "collapsed": false
   },
   "outputs": [
    {
     "name": "stdout",
     "output_type": "stream",
     "text": [
      "일반 학생이 공부를 시작합니다.\n",
      "데이터 사이언스에 대한 코딩을 시작합니다.\n"
     ]
    }
   ],
   "source": [
    "data_science_student = DataSciencesStudent(\"데이터학생\")\n",
    "data_science_student.study()\n",
    "data_science_student.coding()"
   ]
  },
  {
   "cell_type": "code",
   "execution_count": 13,
   "metadata": {
    "collapsed": true
   },
   "outputs": [],
   "source": [
    "# 학생이 비슷한데..? 스터디는 다 동일하게 생겼는걸?\n",
    "# 나중에 디지털 마케터, 웹 프론트엔드 등등의 클래스가 30개쯤 있다면!\n",
    "# 이 경우 상속을 사용 ( inheritance ) : 특정 클래스가 다른 클래스의 값을 상속"
   ]
  },
  {
   "cell_type": "code",
   "execution_count": 14,
   "metadata": {
    "collapsed": true
   },
   "outputs": [],
   "source": [
    "class Student(): # 이 괄호에 object가 생략된 것\n",
    "    \n",
    "    def __init__(self, name):\n",
    "        self.name = name\n",
    "        \n",
    "        \n",
    "    def study(self):\n",
    "        print(\"일반 학생이 공부를 시작합니다.\")\n",
    "        \n",
    "    def coding(self):\n",
    "        print(\"일반 학생은 코딩을 할 수 없습니다.\")\n",
    "\n",
    "class DataScienceStudent(Student):\n",
    "    \n",
    "    def coding(self): \n",
    "# Class의 함수 => Method => 메쏘드를 덮어쓰는 행위 => 메쏘드 오버라이딩\n",
    "        print(\"데사스는 jupyter notebook으로 개발합니다\")\n",
    "\n",
    "# class DataSciencesStudent():\n",
    "    \n",
    "#     def __init__(self, name):\n",
    "#         self.name = name\n",
    "        \n",
    "        \n",
    "#     def study(self):\n",
    "#         print(\"일반 학생이 공부를 시작합니다.\")\n",
    "        \n",
    "#     def coding(self):\n",
    "#         print(\"데이터 사이언스에 대한 코딩을 시작합니다.\")\n",
    "        \n",
    "        \n",
    "# class WebProgrammingStudent():\n",
    "    \n",
    "#     def __init__(self, name):\n",
    "#         self.name = name\n",
    "        \n",
    "        \n",
    "#     def study(self):\n",
    "#         print(\"일반 학생이 공부를 시작합니다.\")\n",
    "        \n",
    "#     def coding(self):\n",
    "#         print(\"웹 개발 코딩을 시작합니다.\")\n",
    "               "
   ]
  },
  {
   "cell_type": "code",
   "execution_count": 30,
   "metadata": {
    "collapsed": true
   },
   "outputs": [],
   "source": [
    "# 새로 시작-!\n",
    "class Student():\n",
    "    \n",
    "    def __init__(self, name):\n",
    "        self.name = name\n",
    "        \n",
    "    def introduce(self):\n",
    "        print(\"저는 {name}입니다.\".format(name=name))\n",
    "        \n",
    "class DataScienceStudent(Student):\n",
    "    \n",
    "    def introduce(self):\n",
    "        print(\"저는 데이터 사이언스 {name}입니다.\".format(name=self.name))\n",
    "        \n",
    "    def coding(self):\n",
    "        print(\"pandas 라이브러리를 이용해서 개발을 합니다\")\n",
    "        \n",
    "class WebProgrammingStudent(Student):\n",
    "    \n",
    "    def introduce(self):\n",
    "        print(\"저는 웹프로그래밍 {name}입니다.\".format(name=self.name))\n",
    "        \n",
    "    def coding(self):\n",
    "        print(\"vim과 bash를 이용해 웹 개발을 합니다\")\n",
    "        \n",
    "# dss.csv를 읽어 데사스 학생 객체 리스트를 만들어보기\n",
    "    "
   ]
  },
  {
   "cell_type": "code",
   "execution_count": 28,
   "metadata": {
    "collapsed": false
   },
   "outputs": [
    {
     "name": "stdout",
     "output_type": "stream",
     "text": [
      "저는 데이터 사이언스 전은황입니다.\n",
      "저는 데이터 사이언스 삼향입니다.\n"
     ]
    }
   ],
   "source": [
    "with open(\"./dss.csv\", \"r\", encoding=\"utf-8\", ) as f:\n",
    "    student_list = [\n",
    "        DataScienceStudent(line.split(\",\")[0])                          \n",
    "        for line\n",
    "        in f.readlines()\n",
    "    ]\n",
    "    \n",
    "for student in student_list:\n",
    "    student.introduce()"
   ]
  },
  {
   "cell_type": "code",
   "execution_count": 29,
   "metadata": {
    "collapsed": false
   },
   "outputs": [
    {
     "data": {
      "text/plain": [
       "[<__main__.DataScienceStudent at 0x18a9da9fda0>,\n",
       " <__main__.DataScienceStudent at 0x18a9da9fd68>]"
      ]
     },
     "execution_count": 29,
     "metadata": {},
     "output_type": "execute_result"
    }
   ],
   "source": [
    "# 대성님같이 데사스 + 웹프스의 경우..! 현재 구현 불가"
   ]
  },
  {
   "cell_type": "code",
   "execution_count": 38,
   "metadata": {
    "collapsed": true
   },
   "outputs": [],
   "source": [
    "class Student():\n",
    "    \n",
    "    __skills = [] # 외부에서 못 부르게 할 때 => 정보 은닉\n",
    "    \n",
    "    def __init__(self, name):\n",
    "        self.name = name\n",
    "        self.age = 0\n",
    "        \n",
    "    def print_skills(self):\n",
    "        for skill in self.__skills:\n",
    "            print(\"{skill} 일을 할 수 있습니다.\".format(skill=skill))\n",
    "            \n",
    "    def add_skill(self, skill):\n",
    "        self.__skills.append(skill)\n",
    "        \n",
    "    def get_age(self): # getter ( 정보를 가져오는 메쏘드 )\n",
    "        return self.age\n",
    "    \n",
    "    def set_age(self, age): # setter ( 정보를 입력하는 메쏘드 )\n",
    "        self.age = age"
   ]
  },
  {
   "cell_type": "code",
   "execution_count": 35,
   "metadata": {
    "collapsed": true
   },
   "outputs": [],
   "source": [
    "yds = Student(\"유대성\")"
   ]
  },
  {
   "cell_type": "code",
   "execution_count": 36,
   "metadata": {
    "collapsed": true
   },
   "outputs": [],
   "source": [
    "yds.print_skills()"
   ]
  },
  {
   "cell_type": "code",
   "execution_count": 37,
   "metadata": {
    "collapsed": false
   },
   "outputs": [
    {
     "name": "stdout",
     "output_type": "stream",
     "text": [
      "WPS 일을 할 수 있습니다.\n",
      "DSS 일을 할 수 있습니다.\n"
     ]
    }
   ],
   "source": [
    "yds.add_skill(\"WPS\")\n",
    "yds.add_skill(\"DSS\")\n",
    "\n",
    "yds.print_skills()"
   ]
  },
  {
   "cell_type": "code",
   "execution_count": null,
   "metadata": {
    "collapsed": true
   },
   "outputs": [],
   "source": []
  },
  {
   "cell_type": "code",
   "execution_count": null,
   "metadata": {
    "collapsed": true
   },
   "outputs": [],
   "source": []
  },
  {
   "cell_type": "code",
   "execution_count": 76,
   "metadata": {
    "collapsed": true
   },
   "outputs": [],
   "source": [
    "class Human():\n",
    "    \n",
    "    def __init__(self, name):\n",
    "        self.name = name\n",
    "        self.age = 0\n",
    "        print(\"{name}이라는 사람이 태어났다.\".format(name=name))\n",
    "        \n",
    "    def after_a_year(self):\n",
    "        self.age += 1\n",
    "        print(\"{name} 이라는 사람의 나이를 1살 더 먹었다.\".format(name=self.name))\n",
    "        \n",
    "    def __str__(self): \n",
    "        return \"'{name}'이라는 사람.\".format(name=self.name)\n",
    "    \n",
    "    def __del__(self):\n",
    "        print(\"{name} 이라는 사람이 메모리에서 잊혀졌다.\".format(name=self.name))"
   ]
  },
  {
   "cell_type": "code",
   "execution_count": 77,
   "metadata": {
    "collapsed": false
   },
   "outputs": [
    {
     "name": "stdout",
     "output_type": "stream",
     "text": [
      "변성윤이라는 사람이 태어났다.\n"
     ]
    }
   ],
   "source": [
    "human = Human(\"변성윤\")"
   ]
  },
  {
   "cell_type": "code",
   "execution_count": 69,
   "metadata": {
    "collapsed": false
   },
   "outputs": [
    {
     "name": "stdout",
     "output_type": "stream",
     "text": [
      "변성윤 이라는 사람의 나이를 1살 더 먹었다.\n"
     ]
    }
   ],
   "source": [
    "human.after_a_year()"
   ]
  },
  {
   "cell_type": "code",
   "execution_count": 70,
   "metadata": {
    "collapsed": false
   },
   "outputs": [
    {
     "data": {
      "text/plain": [
       "1"
      ]
     },
     "execution_count": 70,
     "metadata": {},
     "output_type": "execute_result"
    }
   ],
   "source": [
    "human.age"
   ]
  },
  {
   "cell_type": "code",
   "execution_count": 71,
   "metadata": {
    "collapsed": false
   },
   "outputs": [
    {
     "name": "stdout",
     "output_type": "stream",
     "text": [
      "<__main__.Human object at 0x0000018A9DAABB70>\n"
     ]
    }
   ],
   "source": [
    "print(human) # 이 때 이름이 나오면 좋겠당"
   ]
  },
  {
   "cell_type": "code",
   "execution_count": 75,
   "metadata": {
    "collapsed": false
   },
   "outputs": [
    {
     "name": "stdout",
     "output_type": "stream",
     "text": [
      "'변성윤'이라는 사람.\n"
     ]
    }
   ],
   "source": [
    "# __str__ 을 추가하면!!!! (파이썬 2.x는 __unicode__)\n",
    "print(human)"
   ]
  },
  {
   "cell_type": "code",
   "execution_count": 79,
   "metadata": {
    "collapsed": false
   },
   "outputs": [
    {
     "name": "stdout",
     "output_type": "stream",
     "text": [
      "변성윤 이라는 사람이 메모리에서 잊혀졌다.\n"
     ]
    }
   ],
   "source": [
    "# 파이썬이 이 사람을 기억 못할 때 => 더이상 필요없다고 생각했을때\n",
    "# 메모리에서 지워버리는 거임\n",
    "#  __del__ 을 추가해보자\n",
    "del human"
   ]
  },
  {
   "cell_type": "code",
   "execution_count": null,
   "metadata": {
    "collapsed": true
   },
   "outputs": [],
   "source": [
    "# 모두 클래스화되는 것은 아님\n",
    "\n",
    "# 동물 클래스\n",
    "# 조류 클래스\n",
    "# 포유류 클래스\n",
    "\n",
    "# '먹을 수 있는' 클래스\n",
    "# '날다' 클래스\n",
    "# ' 생각하다' 클래스"
   ]
  },
  {
   "cell_type": "code",
   "execution_count": 81,
   "metadata": {
    "collapsed": true
   },
   "outputs": [],
   "source": [
    "class Animal():\n",
    "    pass\n"
   ]
  },
  {
   "cell_type": "code",
   "execution_count": 82,
   "metadata": {
    "collapsed": true
   },
   "outputs": [],
   "source": [
    "class Chicken(Animal):\n",
    "    pass"
   ]
  },
  {
   "cell_type": "code",
   "execution_count": 83,
   "metadata": {
    "collapsed": false
   },
   "outputs": [],
   "source": [
    "class Flyable():\n",
    "    \n",
    "    def fly(self):\n",
    "        print(\"날기가 가능하다.\") #fly에 대한 특징\n",
    "\n",
    "class Pigeon(Animal, Flyable):\n",
    "    pass\n",
    "    \n",
    "class Sparrow(Animal, Flyable):\n",
    "    pass"
   ]
  },
  {
   "cell_type": "code",
   "execution_count": 93,
   "metadata": {
    "collapsed": false
   },
   "outputs": [
    {
     "name": "stdout",
     "output_type": "stream",
     "text": [
      "날기가 가능하다.\n"
     ]
    }
   ],
   "source": [
    "sparrow = Sparrow()\n",
    "sparrow.fly()"
   ]
  },
  {
   "cell_type": "code",
   "execution_count": 94,
   "metadata": {
    "collapsed": true
   },
   "outputs": [],
   "source": [
    "class Student():\n",
    "    pass"
   ]
  },
  {
   "cell_type": "code",
   "execution_count": 95,
   "metadata": {
    "collapsed": true
   },
   "outputs": [],
   "source": [
    "class GoodStudentFeature():\n",
    "    \n",
    "    def study(self):\n",
    "        print(\"열심히 공부한다.\")\n",
    "        \n",
    "class ILikeToPlayFeature():\n",
    "    \n",
    "    def study(self):\n",
    "        print(\"공부 안하고 놀러 다닌다.\")"
   ]
  },
  {
   "cell_type": "code",
   "execution_count": 97,
   "metadata": {
    "collapsed": false
   },
   "outputs": [],
   "source": [
    "class GoodStudentButLikeToPlayStudent(Student, GoodStudentFeature, ILikeToPlayFeature):\n",
    "    pass"
   ]
  },
  {
   "cell_type": "code",
   "execution_count": 98,
   "metadata": {
    "collapsed": true
   },
   "outputs": [],
   "source": [
    "student = GoodStudentButLikeToPlayStudent()"
   ]
  },
  {
   "cell_type": "code",
   "execution_count": 99,
   "metadata": {
    "collapsed": false
   },
   "outputs": [
    {
     "name": "stdout",
     "output_type": "stream",
     "text": [
      "열심히 공부한다.\n"
     ]
    }
   ],
   "source": [
    "student.study()"
   ]
  },
  {
   "cell_type": "code",
   "execution_count": 100,
   "metadata": {
    "collapsed": false
   },
   "outputs": [
    {
     "name": "stdout",
     "output_type": "stream",
     "text": [
      "공부 안하고 놀러 다닌다.\n"
     ]
    }
   ],
   "source": [
    "class GoodStudentButLikeToPlayStudent(Student, ILikeToPlayFeature, GoodStudentFeature):\n",
    "    pass\n",
    "\n",
    "student = GoodStudentButLikeToPlayStudent()\n",
    "student.study()"
   ]
  },
  {
   "cell_type": "code",
   "execution_count": 101,
   "metadata": {
    "collapsed": true
   },
   "outputs": [],
   "source": [
    "# class의 내부에 넣는 순서에 따라 다름\n",
    "# mro => Method Resolution Order ( python2, python3 우선 순위가 다름)\n",
    "# 총 55개만 알면 됨"
   ]
  },
  {
   "cell_type": "code",
   "execution_count": null,
   "metadata": {
    "collapsed": true
   },
   "outputs": [],
   "source": []
  }
 ],
 "metadata": {
  "kernelspec": {
   "display_name": "Python 3",
   "language": "python",
   "name": "python3"
  },
  "language_info": {
   "codemirror_mode": {
    "name": "ipython",
    "version": 3
   },
   "file_extension": ".py",
   "mimetype": "text/x-python",
   "name": "python",
   "nbconvert_exporter": "python",
   "pygments_lexer": "ipython3",
   "version": "3.5.1"
  }
 },
 "nbformat": 4,
 "nbformat_minor": 0
}
