{
 "cells": [
  {
   "cell_type": "code",
   "execution_count": 1,
   "metadata": {
    "collapsed": true
   },
   "outputs": [],
   "source": [
    "# 3의 배수는 fast, 5의 배수는 campus, 15의 배수는 fast campus\n",
    "result = []\n",
    "\n",
    "for i in range(1, 100+1):\n",
    "    word = \"\"\n",
    "    if i % 3 == 0:\n",
    "        word += \"fast\"\n",
    "    if i % 5 == 0:\n",
    "        word += \"campus\"\n",
    "    result.append(word)"
   ]
  },
  {
   "cell_type": "code",
   "execution_count": 3,
   "metadata": {
    "collapsed": false
   },
   "outputs": [
    {
     "data": {
      "text/plain": [
       "['', '', '', '', 'campus', Ellipsis]"
      ]
     },
     "execution_count": 3,
     "metadata": {},
     "output_type": "execute_result"
    }
   ],
   "source": [
    "# list comprehension\n",
    "[\"\",\"\",\"fast\",...]\n",
    "[\"\",\"\",\"\",\"\",\"campus\",...]"
   ]
  },
  {
   "cell_type": "code",
   "execution_count": 11,
   "metadata": {
    "collapsed": false
   },
   "outputs": [
    {
     "name": "stdout",
     "output_type": "stream",
     "text": [
      "['', '', 'fast', '', '', 'fast', '', '', 'fast', '', '', 'fast', '', '', 'fast', '', '', 'fast', '', '', 'fast', '', '', 'fast', '', '', 'fast', '', '', 'fast', '', '', 'fast', '', '', 'fast', '', '', 'fast', '', '', 'fast', '', '', 'fast', '', '', 'fast', '', '', 'fast', '', '', 'fast', '', '', 'fast', '', '', 'fast', '', '', 'fast', '', '', 'fast', '', '', 'fast', '', '', 'fast', '', '', 'fast', '', '', 'fast', '', '', 'fast', '', '', 'fast', '', '', 'fast', '', '', 'fast', '', '', 'fast', '', '', 'fast', '', '', 'fast', '']\n"
     ]
    }
   ],
   "source": [
    "fast_list = [\n",
    "    \"fast\" if x % 3 == 0 else \"\"\n",
    "    for x\n",
    "    in range(1, 100+1)\n",
    "]\n",
    "\n",
    "print(fast_list)"
   ]
  },
  {
   "cell_type": "code",
   "execution_count": 13,
   "metadata": {
    "collapsed": false
   },
   "outputs": [
    {
     "name": "stdout",
     "output_type": "stream",
     "text": [
      "['', '', '', '', 'campus', '', '', '', '', 'campus', '', '', '', '', 'campus', '', '', '', '', 'campus', '', '', '', '', 'campus', '', '', '', '', 'campus', '', '', '', '', 'campus', '', '', '', '', 'campus', '', '', '', '', 'campus', '', '', '', '', 'campus', '', '', '', '', 'campus', '', '', '', '', 'campus', '', '', '', '', 'campus', '', '', '', '', 'campus', '', '', '', '', 'campus', '', '', '', '', 'campus', '', '', '', '', 'campus', '', '', '', '', 'campus', '', '', '', '', 'campus', '', '', '', '', 'campus']\n"
     ]
    }
   ],
   "source": [
    "campus_list = [\n",
    "    \"campus\" if x % 5 == 0 else \"\"\n",
    "    for x\n",
    "    in range(1, 100+1)\n",
    "]\n",
    "\n",
    "print(campus_list)"
   ]
  },
  {
   "cell_type": "code",
   "execution_count": 15,
   "metadata": {
    "collapsed": false
   },
   "outputs": [],
   "source": [
    "def something(x):\n",
    "    pass\n",
    "\n",
    "something_list = [\n",
    "    something(2)\n",
    "    for i\n",
    "    in range(1,10+1)\n",
    "    \n",
    "]"
   ]
  },
  {
   "cell_type": "code",
   "execution_count": 20,
   "metadata": {
    "collapsed": false
   },
   "outputs": [
    {
     "data": {
      "text/plain": [
       "['',\n",
       " '',\n",
       " 'fast',\n",
       " '',\n",
       " 'campus',\n",
       " 'fast',\n",
       " '',\n",
       " '',\n",
       " 'fast',\n",
       " 'campus',\n",
       " '',\n",
       " 'fast',\n",
       " '',\n",
       " '',\n",
       " 'fastcampus',\n",
       " '']"
      ]
     },
     "execution_count": 20,
     "metadata": {},
     "output_type": "execute_result"
    }
   ],
   "source": [
    "[\n",
    "    fast_list[i] + campus_list[i]\n",
    "    for i\n",
    "    in range(16)\n",
    "]"
   ]
  },
  {
   "cell_type": "code",
   "execution_count": 24,
   "metadata": {
    "collapsed": false
   },
   "outputs": [],
   "source": [
    "def something(count, first_number, first_word, second_number, second_word):\n",
    "    first_list = [\n",
    "        first_word if i % first_number == 0 else \"\"\n",
    "        for i \n",
    "        in range(1, count+1)\n",
    "    ]\n",
    "    \n",
    "    second_list = [\n",
    "        second_word if i % second_number == 0 else \"\"\n",
    "        for i \n",
    "        in range(1, count+1)\n",
    "        \n",
    "    ]\n",
    "    \n",
    "    return [\n",
    "        first_list[i] + second_list[i]\n",
    "        for i\n",
    "        in range(count)\n",
    "        \n",
    "    ]"
   ]
  },
  {
   "cell_type": "code",
   "execution_count": 25,
   "metadata": {
    "collapsed": false
   },
   "outputs": [
    {
     "data": {
      "text/plain": [
       "['',\n",
       " '',\n",
       " 'fast',\n",
       " '',\n",
       " 'campus',\n",
       " 'fast',\n",
       " '',\n",
       " '',\n",
       " 'fast',\n",
       " 'campus',\n",
       " '',\n",
       " 'fast',\n",
       " '',\n",
       " '',\n",
       " 'fastcampus',\n",
       " '',\n",
       " '',\n",
       " 'fast',\n",
       " '',\n",
       " 'campus',\n",
       " 'fast',\n",
       " '',\n",
       " '',\n",
       " 'fast',\n",
       " 'campus',\n",
       " '',\n",
       " 'fast',\n",
       " '',\n",
       " '',\n",
       " 'fastcampus',\n",
       " '',\n",
       " '',\n",
       " 'fast',\n",
       " '',\n",
       " 'campus',\n",
       " 'fast',\n",
       " '',\n",
       " '',\n",
       " 'fast',\n",
       " 'campus',\n",
       " '',\n",
       " 'fast',\n",
       " '',\n",
       " '',\n",
       " 'fastcampus',\n",
       " '',\n",
       " '',\n",
       " 'fast',\n",
       " '',\n",
       " 'campus',\n",
       " 'fast',\n",
       " '',\n",
       " '',\n",
       " 'fast',\n",
       " 'campus',\n",
       " '',\n",
       " 'fast',\n",
       " '',\n",
       " '',\n",
       " 'fastcampus',\n",
       " '',\n",
       " '',\n",
       " 'fast',\n",
       " '',\n",
       " 'campus',\n",
       " 'fast',\n",
       " '',\n",
       " '',\n",
       " 'fast',\n",
       " 'campus',\n",
       " '',\n",
       " 'fast',\n",
       " '',\n",
       " '',\n",
       " 'fastcampus',\n",
       " '',\n",
       " '',\n",
       " 'fast',\n",
       " '',\n",
       " 'campus',\n",
       " 'fast',\n",
       " '',\n",
       " '',\n",
       " 'fast',\n",
       " 'campus',\n",
       " '',\n",
       " 'fast',\n",
       " '',\n",
       " '',\n",
       " 'fastcampus',\n",
       " '',\n",
       " '',\n",
       " 'fast',\n",
       " '',\n",
       " 'campus',\n",
       " 'fast',\n",
       " '',\n",
       " '',\n",
       " 'fast',\n",
       " 'campus']"
      ]
     },
     "execution_count": 25,
     "metadata": {},
     "output_type": "execute_result"
    }
   ],
   "source": [
    "something(100, 3, \"fast\", 5, \"campus\")"
   ]
  },
  {
   "cell_type": "markdown",
   "metadata": {
    "collapsed": true
   },
   "source": [
    "# is_palindrome 문제"
   ]
  },
  {
   "cell_type": "code",
   "execution_count": null,
   "metadata": {
    "collapsed": true
   },
   "outputs": [],
   "source": []
  },
  {
   "cell_type": "code",
   "execution_count": null,
   "metadata": {
    "collapsed": true
   },
   "outputs": [],
   "source": []
  },
  {
   "cell_type": "code",
   "execution_count": null,
   "metadata": {
    "collapsed": true
   },
   "outputs": [],
   "source": []
  },
  {
   "cell_type": "code",
   "execution_count": null,
   "metadata": {
    "collapsed": true
   },
   "outputs": [],
   "source": []
  },
  {
   "cell_type": "markdown",
   "metadata": {},
   "source": [
    "# 문자열 처리 - split, join, replace"
   ]
  },
  {
   "cell_type": "code",
   "execution_count": 4,
   "metadata": {
    "collapsed": true
   },
   "outputs": [],
   "source": [
    "sentence = \"패스트캠퍼스 스쿨 과정은 참 좋다\""
   ]
  },
  {
   "cell_type": "code",
   "execution_count": 17,
   "metadata": {
    "collapsed": true
   },
   "outputs": [],
   "source": [
    "def word_split(sentence):\n",
    "    word_list = []\n",
    "    word = \"\"\n",
    "    for i in sentence + \" \":\n",
    "        if i == \" \":\n",
    "            word_list.append(word)\n",
    "            word = \"\"\n",
    "        else:\n",
    "            word += i\n",
    "\n",
    "    return word_list"
   ]
  },
  {
   "cell_type": "code",
   "execution_count": 18,
   "metadata": {
    "collapsed": false
   },
   "outputs": [
    {
     "data": {
      "text/plain": [
       "['패스트캠퍼스', '스쿨', '과정은', '참', '좋다']"
      ]
     },
     "execution_count": 18,
     "metadata": {},
     "output_type": "execute_result"
    }
   ],
   "source": [
    "sentence.split(\" \")"
   ]
  },
  {
   "cell_type": "code",
   "execution_count": 19,
   "metadata": {
    "collapsed": false,
    "scrolled": true
   },
   "outputs": [
    {
     "data": {
      "text/plain": [
       "['패스트캠퍼스', '스쿨', '과정은', '참', '좋다']"
      ]
     },
     "execution_count": 19,
     "metadata": {},
     "output_type": "execute_result"
    }
   ],
   "source": [
    "word_split(sentence)"
   ]
  },
  {
   "cell_type": "code",
   "execution_count": 20,
   "metadata": {
    "collapsed": false
   },
   "outputs": [
    {
     "data": {
      "text/plain": [
       "'패스트캠퍼스 참 좋구나'"
      ]
     },
     "execution_count": 20,
     "metadata": {},
     "output_type": "execute_result"
    }
   ],
   "source": [
    "\" \".join([\"패스트캠퍼스\",\"참\",\"좋구나\"])"
   ]
  },
  {
   "cell_type": "code",
   "execution_count": 22,
   "metadata": {
    "collapsed": false
   },
   "outputs": [
    {
     "data": {
      "text/plain": [
       "'패스트캠퍼스-스쿨-과정은-참-좋다'"
      ]
     },
     "execution_count": 22,
     "metadata": {},
     "output_type": "execute_result"
    }
   ],
   "source": [
    "sentence.replace(\" \", \"-\") # 공백을 -로 바꿈"
   ]
  },
  {
   "cell_type": "code",
   "execution_count": 23,
   "metadata": {
    "collapsed": true
   },
   "outputs": [],
   "source": [
    "# 다루기 쉬운 자료형으로 변경하기"
   ]
  },
  {
   "cell_type": "code",
   "execution_count": 24,
   "metadata": {
    "collapsed": false
   },
   "outputs": [
    {
     "data": {
      "text/plain": [
       "{'address': '주소', 'name': '변성윤'}"
      ]
     },
     "execution_count": 24,
     "metadata": {},
     "output_type": "execute_result"
    }
   ],
   "source": [
    "{\n",
    "    \"name\" : \"변성윤\",\n",
    "    \"address\" : \"주소\",\n",
    "} \n",
    "\n",
    "# 이런식으로 여러개가 있다면!\n"
   ]
  },
  {
   "cell_type": "code",
   "execution_count": 25,
   "metadata": {
    "collapsed": false
   },
   "outputs": [
    {
     "data": {
      "text/plain": [
       "[{'address': '주소', 'name': '변성윤'}, {'address': '주소2', 'name': '변성윤2'}]"
      ]
     },
     "execution_count": 25,
     "metadata": {},
     "output_type": "execute_result"
    }
   ],
   "source": [
    "[\n",
    "    {\n",
    "    \"name\" : \"변성윤\",\n",
    "    \"address\" : \"주소\",\n",
    "    },\n",
    "    {\n",
    "    \"name\" : \"변성윤2\",\n",
    "    \"address\" : \"주소2\",\n",
    "    } \n",
    "]"
   ]
  },
  {
   "cell_type": "code",
   "execution_count": 26,
   "metadata": {
    "collapsed": true
   },
   "outputs": [],
   "source": [
    "user_list = [\n",
    "    [\"변성윤\",\"주소1\"],\n",
    "    [\"변성\",\"주소2\"]\n",
    "] # 이걸 위에 있는 리스트 안의 딕셔너리로 바꿔보세요"
   ]
  },
  {
   "cell_type": "markdown",
   "metadata": {},
   "source": [
    "# list의 list => dict의 list로 변경하기"
   ]
  },
  {
   "cell_type": "code",
   "execution_count": 28,
   "metadata": {
    "collapsed": false
   },
   "outputs": [
    {
     "data": {
      "text/plain": [
       "[['변성윤', '주소1'], ['변성', '주소2']]"
      ]
     },
     "execution_count": 28,
     "metadata": {},
     "output_type": "execute_result"
    }
   ],
   "source": [
    "user_list"
   ]
  },
  {
   "cell_type": "code",
   "execution_count": 29,
   "metadata": {
    "collapsed": false
   },
   "outputs": [
    {
     "data": {
      "text/plain": [
       "['변성윤', '주소1']"
      ]
     },
     "execution_count": 29,
     "metadata": {},
     "output_type": "execute_result"
    }
   ],
   "source": [
    "user_list[0]"
   ]
  },
  {
   "cell_type": "code",
   "execution_count": 30,
   "metadata": {
    "collapsed": false
   },
   "outputs": [
    {
     "data": {
      "text/plain": [
       "'변성윤'"
      ]
     },
     "execution_count": 30,
     "metadata": {},
     "output_type": "execute_result"
    }
   ],
   "source": [
    "user_list[0][0]"
   ]
  },
  {
   "cell_type": "code",
   "execution_count": 31,
   "metadata": {
    "collapsed": false
   },
   "outputs": [
    {
     "data": {
      "text/plain": [
       "[{'address': '주소1', 'name': '변성윤'}, {'address': '주소2', 'name': '변성'}]"
      ]
     },
     "execution_count": 31,
     "metadata": {},
     "output_type": "execute_result"
    }
   ],
   "source": [
    "# 1. for문을 돌리는 방법\n",
    "\n",
    "user_dict_list = []\n",
    "\n",
    "for user in user_list:\n",
    "    name = user[0]\n",
    "    address = user[1]\n",
    "    \n",
    "    user_dict = {\n",
    "        \"name\": name,\n",
    "        \"address\": address\n",
    "    }\n",
    "    user_dict_list.append(user_dict)\n",
    "    \n",
    "user_dict_list"
   ]
  },
  {
   "cell_type": "code",
   "execution_count": 32,
   "metadata": {
    "collapsed": false
   },
   "outputs": [
    {
     "data": {
      "text/plain": [
       "[{'address': '주소1', 'name': '변성윤'}, {'address': '주소2', 'name': '변성'}]"
      ]
     },
     "execution_count": 32,
     "metadata": {},
     "output_type": "execute_result"
    }
   ],
   "source": [
    "# for문을 돌리는 방법은 너무 번거로움\n",
    "# list comprehension을 사용해보자!\n",
    "\n",
    "[\n",
    "    {\n",
    "        \"name\": user[0],\n",
    "        \"address\": user[1]\n",
    "    }\n",
    "    for user\n",
    "    in user_list\n",
    "]"
   ]
  },
  {
   "cell_type": "code",
   "execution_count": 36,
   "metadata": {
    "collapsed": false
   },
   "outputs": [
    {
     "name": "stdout",
     "output_type": "stream",
     "text": [
      "전은황, 부산광역시 다인군 민영열구 7 943 339-902\n",
      "삼향, 세종특별자치시 홍용세시 임한정거리 5943 7-9 (395-057)\n"
     ]
    }
   ],
   "source": [
    "with open(\"./dss.csv\", \"r\", encoding=\"utf-8\") as f:\n",
    "    print(f.read())"
   ]
  },
  {
   "cell_type": "code",
   "execution_count": 39,
   "metadata": {
    "collapsed": false
   },
   "outputs": [
    {
     "data": {
      "text/plain": [
       "[{'address': ' 부산광역시 다인군 민영열구 7 943 339-902', 'name': '전은황'},\n",
       " {'address': ' 세종특별자치시 홍용세시 임한정거리 5943 7-9 (395-057)', 'name': '삼향'}]"
      ]
     },
     "execution_count": 39,
     "metadata": {},
     "output_type": "execute_result"
    }
   ],
   "source": [
    "with open(\"./dss.csv\", \"r\", encoding=\"utf-8\") as f:\n",
    "    user_list = []\n",
    "    \n",
    "    for line in f.readlines():\n",
    "        user_list.append(({\n",
    "                    \"name\": line.split(\",\")[0],\n",
    "                    \"address\": line.split(\",\")[1].replace(\"\\n\",\"\")\n",
    "                }))\n",
    "        \n",
    "user_list"
   ]
  },
  {
   "cell_type": "code",
   "execution_count": 40,
   "metadata": {
    "collapsed": true
   },
   "outputs": [],
   "source": [
    "# 이걸 list comprehension으로 바꿔볼까요"
   ]
  },
  {
   "cell_type": "code",
   "execution_count": 43,
   "metadata": {
    "collapsed": false
   },
   "outputs": [
    {
     "data": {
      "text/plain": [
       "[{'address': ' 부산광역시 다인군 민영열구 7 943 339-902', 'name': '전은황'},\n",
       " {'address': ' 세종특별자치시 홍용세시 임한정거리 5943 7-9 (395-057)', 'name': '삼향'}]"
      ]
     },
     "execution_count": 43,
     "metadata": {},
     "output_type": "execute_result"
    }
   ],
   "source": [
    "with open(\"./dss.csv\", \"r\", encoding=\"utf-8\") as f:\n",
    "    user_list = [\n",
    "        {\n",
    "            \"name\": line.split(\",\")[0],\n",
    "            \"address\": line.split(\",\")[1].replace(\"\\n\",\"\")\n",
    "        }\n",
    "        for line\n",
    "        in f.readlines()\n",
    "    ]\n",
    "    \n",
    "user_list"
   ]
  },
  {
   "cell_type": "markdown",
   "metadata": {},
   "source": [
    "# 데이터 전처리 -> 정규식\n",
    "\n"
   ]
  },
  {
   "cell_type": "code",
   "execution_count": 59,
   "metadata": {
    "collapsed": true
   },
   "outputs": [],
   "source": [
    "# 공일공 => 010\n",
    "\n",
    "def preprocess(phonenumber):\n",
    "    phonenumber_process_dict ={\n",
    "        \"공\":0,\n",
    "        \"일\":1,\n",
    "        \"이\":2,\n",
    "        \"삼\":3,\n",
    "        \"사\":4,\n",
    "        \"오\":5,\n",
    "        \"육\":6,\n",
    "        \"칠\":7,\n",
    "        \"팔\":8,\n",
    "        \"구\":9,\n",
    "        \"-\":\"\",\n",
    "        \" \":\"\",\n",
    "        \"영\":0,\n",
    "    }\n",
    "    \n",
    "    for key, value in phonenumber_process_dict.items():\n",
    "        phonenumber = phonenumber.replace(key, str(value))\n",
    "        \n",
    "    return phonenumber"
   ]
  },
  {
   "cell_type": "code",
   "execution_count": 50,
   "metadata": {
    "collapsed": true
   },
   "outputs": [],
   "source": [
    "# key, value를 같이 꺼내려면! items 사용"
   ]
  },
  {
   "cell_type": "code",
   "execution_count": 54,
   "metadata": {
    "collapsed": false
   },
   "outputs": [
    {
     "data": {
      "text/plain": [
       "'0101111232영'"
      ]
     },
     "execution_count": 54,
     "metadata": {},
     "output_type": "execute_result"
    }
   ],
   "source": [
    "preprocess(\"공일공1111-232영\")"
   ]
  },
  {
   "cell_type": "code",
   "execution_count": 60,
   "metadata": {
    "collapsed": false
   },
   "outputs": [
    {
     "data": {
      "text/plain": [
       "['01088887777', '01185527223', '01088775527', '01012340123']"
      ]
     },
     "execution_count": 60,
     "metadata": {},
     "output_type": "execute_result"
    }
   ],
   "source": [
    "with open(\"./phonenumber.txt\", \"r\", encoding=\"utf-8\") as input_files:\n",
    "    result = [\n",
    "        preprocess(line.replace(\"\\n\", \"\"))\n",
    "        for line\n",
    "        in input_files.readlines()\n",
    "    ]\n",
    "    \n",
    "result"
   ]
  },
  {
   "cell_type": "code",
   "execution_count": 63,
   "metadata": {
    "collapsed": false
   },
   "outputs": [],
   "source": [
    "# 위의 코드에서 아웃풋을 저장하는 코드 추가\n",
    "\n",
    "with open(\"./phonenumber.txt\", \"r\", encoding=\"utf-8\") as input_files:\n",
    "    with open(\"./phonenumber_proprecessed.txt\", \"w\", encoding=\"utf-8\") as output_files:\n",
    "        phonenumber_list = [\n",
    "            output_file.write(\n",
    "                preprocess(line.replace(\"\\n\", \"\")) + \"\\n\"\n",
    "            )\n",
    "            for line\n",
    "            in input_files.readlines()\n",
    "        ]\n",
    "    \n",
    "        for phonenumber in phonenumber_list:\n",
    "            output_files.write(phonenumber + \"\\n\")\n",
    "\n",
    "# 파일.write"
   ]
  },
  {
   "cell_type": "code",
   "execution_count": null,
   "metadata": {
    "collapsed": true
   },
   "outputs": [],
   "source": []
  }
 ],
 "metadata": {
  "kernelspec": {
   "display_name": "Python 3",
   "language": "python",
   "name": "python3"
  },
  "language_info": {
   "codemirror_mode": {
    "name": "ipython",
    "version": 3
   },
   "file_extension": ".py",
   "mimetype": "text/x-python",
   "name": "python",
   "nbconvert_exporter": "python",
   "pygments_lexer": "ipython3",
   "version": "3.5.1"
  }
 },
 "nbformat": 4,
 "nbformat_minor": 0
}
