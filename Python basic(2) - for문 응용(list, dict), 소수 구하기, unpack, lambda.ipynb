{
 "cells": [
  {
   "cell_type": "markdown",
   "metadata": {},
   "source": [
    "# for문을 돌리는 다양한 방법"
   ]
  },
  {
   "cell_type": "code",
   "execution_count": 1,
   "metadata": {
    "collapsed": true
   },
   "outputs": [],
   "source": [
    "animals = [\"강아지\", \"고양이\",\"이구아나\",\"물고기\",\"참새\"]\n",
    "\n",
    "my_informations = {\n",
    "    \"name\":\"성윤\",\n",
    "    \"phonenumber\":\"010-0000-0000\",\n",
    "    \"email\":\"zzsza@naver.com\"\n",
    "}"
   ]
  },
  {
   "cell_type": "code",
   "execution_count": 2,
   "metadata": {
    "collapsed": false
   },
   "outputs": [
    {
     "name": "stdout",
     "output_type": "stream",
     "text": [
      "강아지\n",
      "고양이\n",
      "이구아나\n",
      "물고기\n",
      "참새\n"
     ]
    }
   ],
   "source": [
    "for animal in animals:\n",
    "    print(animal)"
   ]
  },
  {
   "cell_type": "code",
   "execution_count": 3,
   "metadata": {
    "collapsed": false
   },
   "outputs": [
    {
     "name": "stdout",
     "output_type": "stream",
     "text": [
      "name\n",
      "email\n",
      "phonenumber\n"
     ]
    }
   ],
   "source": [
    "for my_information in my_informations:\n",
    "    print(my_information)"
   ]
  },
  {
   "cell_type": "code",
   "execution_count": 4,
   "metadata": {
    "collapsed": true
   },
   "outputs": [],
   "source": [
    "# 키값만 출력되고 value가 출력이 안된다..?"
   ]
  },
  {
   "cell_type": "code",
   "execution_count": 6,
   "metadata": {
    "collapsed": false
   },
   "outputs": [
    {
     "name": "stdout",
     "output_type": "stream",
     "text": [
      "name\n",
      "성윤\n",
      "email\n",
      "zzsza@naver.com\n",
      "phonenumber\n",
      "010-0000-0000\n"
     ]
    }
   ],
   "source": [
    "for my_information in my_informations:\n",
    "    print(my_information)\n",
    "    print(my_informations[my_information])"
   ]
  },
  {
   "cell_type": "code",
   "execution_count": 7,
   "metadata": {
    "collapsed": false
   },
   "outputs": [
    {
     "data": {
      "text/plain": [
       "'성윤'"
      ]
     },
     "execution_count": 7,
     "metadata": {},
     "output_type": "execute_result"
    }
   ],
   "source": [
    "my_informations[\"name\"]"
   ]
  },
  {
   "cell_type": "code",
   "execution_count": 8,
   "metadata": {
    "collapsed": false
   },
   "outputs": [
    {
     "name": "stdout",
     "output_type": "stream",
     "text": [
      "('name', '성윤')\n",
      "('email', 'zzsza@naver.com')\n",
      "('phonenumber', '010-0000-0000')\n"
     ]
    }
   ],
   "source": [
    "# 하지만 key, value 한 쌍으로 뽑고 싶다면!\n",
    "\n",
    "for my_information in my_informations.items():\n",
    "    print(my_information)"
   ]
  },
  {
   "cell_type": "code",
   "execution_count": 9,
   "metadata": {
    "collapsed": true
   },
   "outputs": [],
   "source": [
    "# 이건 tuple 형태. 나중에 사용하기 편한 방법을 찾아보자"
   ]
  },
  {
   "cell_type": "code",
   "execution_count": 10,
   "metadata": {
    "collapsed": true
   },
   "outputs": [],
   "source": [
    "width_and_height = (120, 240)\n",
    "width, height = width_and_height"
   ]
  },
  {
   "cell_type": "code",
   "execution_count": 12,
   "metadata": {
    "collapsed": false
   },
   "outputs": [],
   "source": [
    "# 이런식으로 생각해볼 수 있음"
   ]
  },
  {
   "cell_type": "code",
   "execution_count": 13,
   "metadata": {
    "collapsed": false
   },
   "outputs": [
    {
     "name": "stdout",
     "output_type": "stream",
     "text": [
      "name\n",
      "성윤\n",
      "email\n",
      "zzsza@naver.com\n",
      "phonenumber\n",
      "010-0000-0000\n"
     ]
    }
   ],
   "source": [
    "for my_information in my_informations.items():\n",
    "    key, value = my_information\n",
    "    print(key)\n",
    "    print(value)"
   ]
  },
  {
   "cell_type": "code",
   "execution_count": 14,
   "metadata": {
    "collapsed": true
   },
   "outputs": [],
   "source": [
    "# 하지만 위 방법도 조금 귀찮음"
   ]
  },
  {
   "cell_type": "code",
   "execution_count": 15,
   "metadata": {
    "collapsed": false
   },
   "outputs": [
    {
     "name": "stdout",
     "output_type": "stream",
     "text": [
      "name\n",
      "성윤\n",
      "email\n",
      "zzsza@naver.com\n",
      "phonenumber\n",
      "010-0000-0000\n"
     ]
    }
   ],
   "source": [
    "for key, value in my_informations.items():\n",
    "    print(key)\n",
    "    print(value)"
   ]
  },
  {
   "cell_type": "code",
   "execution_count": 17,
   "metadata": {
    "collapsed": false
   },
   "outputs": [
    {
     "data": {
      "text/plain": [
       "dict_keys(['name', 'email', 'phonenumber'])"
      ]
     },
     "execution_count": 17,
     "metadata": {},
     "output_type": "execute_result"
    }
   ],
   "source": [
    "my_informations.keys() # 이렇게 key값만 뽑아낼 수 있음"
   ]
  },
  {
   "cell_type": "code",
   "execution_count": 36,
   "metadata": {
    "collapsed": true
   },
   "outputs": [],
   "source": [
    "animals = [\"강아지\",\"고양이\",\"이구아나\",\"물고기\",\"참새\"]\n",
    "\n",
    "# 하나씩 출력을 하는데, index가 2번인 애는 파이썬으로 변경"
   ]
  },
  {
   "cell_type": "code",
   "execution_count": 37,
   "metadata": {
    "collapsed": false
   },
   "outputs": [
    {
     "data": {
      "text/plain": [
       "5"
      ]
     },
     "execution_count": 37,
     "metadata": {},
     "output_type": "execute_result"
    }
   ],
   "source": [
    "len(animals)"
   ]
  },
  {
   "cell_type": "code",
   "execution_count": 38,
   "metadata": {
    "collapsed": false
   },
   "outputs": [
    {
     "name": "stdout",
     "output_type": "stream",
     "text": [
      "강아지\n",
      "고양이\n",
      "이구아나\n",
      "물고기\n",
      "참새\n"
     ]
    }
   ],
   "source": [
    "for i in range(len(animals)):\n",
    "    print(animals[i])"
   ]
  },
  {
   "cell_type": "code",
   "execution_count": 42,
   "metadata": {
    "collapsed": false
   },
   "outputs": [
    {
     "name": "stdout",
     "output_type": "stream",
     "text": [
      "강아지\n",
      "고양이\n",
      "파이썬\n",
      "물고기\n",
      "참새\n"
     ]
    }
   ],
   "source": [
    "for i in range(len(animals)):\n",
    "    if i == 2:\n",
    "        animals[i] = \"파이썬\"\n",
    "    print(animals[i])\n",
    "#     else:\n",
    "#         print(animals[i])"
   ]
  },
  {
   "cell_type": "code",
   "execution_count": 43,
   "metadata": {
    "collapsed": false
   },
   "outputs": [
    {
     "data": {
      "text/plain": [
       "0"
      ]
     },
     "execution_count": 43,
     "metadata": {},
     "output_type": "execute_result"
    }
   ],
   "source": [
    "animals.index(\"강아지\")"
   ]
  },
  {
   "cell_type": "code",
   "execution_count": 44,
   "metadata": {
    "collapsed": false
   },
   "outputs": [
    {
     "name": "stdout",
     "output_type": "stream",
     "text": [
      "강아지\n",
      "고양이\n",
      "파이썬\n",
      "물고기\n",
      "참새\n"
     ]
    }
   ],
   "source": [
    "animals = [\"강아지\",\"고양이\",\"이구아나\",\"물고기\",\"참새\"]\n",
    "\n",
    "for animal in animals:\n",
    "    index = animals.index(animal)\n",
    "\n",
    "    if index == 2:\n",
    "        animals[index] = \"파이썬\"\n",
    "    print(animals[index])"
   ]
  },
  {
   "cell_type": "code",
   "execution_count": 45,
   "metadata": {
    "collapsed": false
   },
   "outputs": [
    {
     "name": "stdout",
     "output_type": "stream",
     "text": [
      "(0, '강아지')\n",
      "(1, '고양이')\n",
      "(2, '파이썬')\n",
      "(3, '물고기')\n",
      "(4, '참새')\n"
     ]
    }
   ],
   "source": [
    "for something in enumerate(animals):\n",
    "    print(something)"
   ]
  },
  {
   "cell_type": "code",
   "execution_count": 46,
   "metadata": {
    "collapsed": true
   },
   "outputs": [],
   "source": [
    "# enumerate : 열거하는 기능\n",
    "# 리스트를 딕셔너리처럼 반환"
   ]
  },
  {
   "cell_type": "code",
   "execution_count": 48,
   "metadata": {
    "collapsed": false
   },
   "outputs": [
    {
     "name": "stdout",
     "output_type": "stream",
     "text": [
      "강아지\n",
      "고양이\n",
      "파이썬\n",
      "물고기\n",
      "참새\n"
     ]
    }
   ],
   "source": [
    "for index, value in enumerate(animals): \n",
    "    if index == 2:\n",
    "        animals[index] = \"파이썬\"\n",
    "    print(animals[index])"
   ]
  },
  {
   "cell_type": "code",
   "execution_count": 49,
   "metadata": {
    "collapsed": true
   },
   "outputs": [],
   "source": [
    "# 딕셔너리를 사용할 경우 거~의 key, value로 나눌 확률이 큼\n",
    "# 데이터가 필요한 구조에 따라 다르게 코딩해야 함"
   ]
  },
  {
   "cell_type": "markdown",
   "metadata": {},
   "source": [
    "# 소수 구하기 Prime number"
   ]
  },
  {
   "cell_type": "code",
   "execution_count": null,
   "metadata": {
    "collapsed": true
   },
   "outputs": [],
   "source": [
    "# 코딩할 때 어려우면 기능 단위로 나눠서 진행해볼 것"
   ]
  },
  {
   "cell_type": "code",
   "execution_count": 53,
   "metadata": {
    "collapsed": true
   },
   "outputs": [],
   "source": [
    "def get_prime_numbers(number):\n",
    "    prime_numbers = []\n",
    "    for i in range(2, number):\n",
    "        if is_prime(i):\n",
    "            prime_numbers.append(i)\n",
    "    return prime_numbers"
   ]
  },
  {
   "cell_type": "code",
   "execution_count": 54,
   "metadata": {
    "collapsed": false
   },
   "outputs": [
    {
     "data": {
      "text/plain": [
       "[2, 3, 5, 7, 11, 13, 17, 19]"
      ]
     },
     "execution_count": 54,
     "metadata": {},
     "output_type": "execute_result"
    }
   ],
   "source": [
    "get_prime_numbers(20)"
   ]
  },
  {
   "cell_type": "code",
   "execution_count": 50,
   "metadata": {
    "collapsed": true
   },
   "outputs": [],
   "source": [
    "def is_prime(number):\n",
    "    # 2부터 number-1 까지 숫자로 각각 나눠서 체크\n",
    "    for i in range(2, number):\n",
    "        if number % i == 0:\n",
    "            return False\n",
    "    return True\n"
   ]
  },
  {
   "cell_type": "code",
   "execution_count": 52,
   "metadata": {
    "collapsed": false
   },
   "outputs": [
    {
     "data": {
      "text/plain": [
       "False"
      ]
     },
     "execution_count": 52,
     "metadata": {},
     "output_type": "execute_result"
    }
   ],
   "source": [
    "is_prime(10)"
   ]
  },
  {
   "cell_type": "code",
   "execution_count": 55,
   "metadata": {
    "collapsed": false
   },
   "outputs": [
    {
     "name": "stdout",
     "output_type": "stream",
     "text": [
      "0\n",
      "2\n",
      "4\n",
      "6\n",
      "8\n"
     ]
    }
   ],
   "source": [
    "for i in range(0, 10, 2):\n",
    "    print(i)"
   ]
  },
  {
   "cell_type": "code",
   "execution_count": 56,
   "metadata": {
    "collapsed": true
   },
   "outputs": [],
   "source": [
    "import time"
   ]
  },
  {
   "cell_type": "code",
   "execution_count": 59,
   "metadata": {
    "collapsed": false
   },
   "outputs": [
    {
     "data": {
      "text/plain": [
       "0.05354809761047363"
      ]
     },
     "execution_count": 59,
     "metadata": {},
     "output_type": "execute_result"
    }
   ],
   "source": [
    "start_time = time.time()\n",
    "get_prime_numbers(1000)\n",
    "end_time = time.time()\n",
    "\n",
    "end_time - start_time"
   ]
  },
  {
   "cell_type": "code",
   "execution_count": 60,
   "metadata": {
    "collapsed": true
   },
   "outputs": [],
   "source": [
    "# is_prime 에서 연산이 많이 생김.. 리팩토링 필요"
   ]
  },
  {
   "cell_type": "code",
   "execution_count": 61,
   "metadata": {
    "collapsed": true
   },
   "outputs": [],
   "source": [
    "# 1) 2로 나누어 떨어지는 숫자까지 체크\n",
    "# 2) 5로 나누어지면, 100/5 = 20 으로 나눌 수 있음.\n",
    "#    100의 제곱근까지만 체크하면 된다\n",
    "#    101 ** 0.5\n"
   ]
  },
  {
   "cell_type": "code",
   "execution_count": 62,
   "metadata": {
    "collapsed": true
   },
   "outputs": [],
   "source": [
    "def is_prime_optimized(number):\n",
    "    for i in range(2, int(number ** 0.5) + 1):\n",
    "        if number % i == 0:\n",
    "            return False\n",
    "    return True"
   ]
  },
  {
   "cell_type": "code",
   "execution_count": 63,
   "metadata": {
    "collapsed": true
   },
   "outputs": [],
   "source": [
    "def get_prime_numbers_optimized(number):\n",
    "    prime_numbers = []\n",
    "    for i in range(2, number):\n",
    "        if is_prime_optimized(i):\n",
    "            prime_numbers.append(i)\n",
    "    return prime_numbers"
   ]
  },
  {
   "cell_type": "code",
   "execution_count": 65,
   "metadata": {
    "collapsed": false
   },
   "outputs": [
    {
     "name": "stdout",
     "output_type": "stream",
     "text": [
      "Wall time: 929 ms\n"
     ]
    },
    {
     "data": {
      "text/plain": [
       "[2,\n",
       " 3,\n",
       " 5,\n",
       " 7,\n",
       " 11,\n",
       " 13,\n",
       " 17,\n",
       " 19,\n",
       " 23,\n",
       " 29,\n",
       " 31,\n",
       " 37,\n",
       " 41,\n",
       " 43,\n",
       " 47,\n",
       " 53,\n",
       " 59,\n",
       " 61,\n",
       " 67,\n",
       " 71,\n",
       " 73,\n",
       " 79,\n",
       " 83,\n",
       " 89,\n",
       " 97,\n",
       " 101,\n",
       " 103,\n",
       " 107,\n",
       " 109,\n",
       " 113,\n",
       " 127,\n",
       " 131,\n",
       " 137,\n",
       " 139,\n",
       " 149,\n",
       " 151,\n",
       " 157,\n",
       " 163,\n",
       " 167,\n",
       " 173,\n",
       " 179,\n",
       " 181,\n",
       " 191,\n",
       " 193,\n",
       " 197,\n",
       " 199,\n",
       " 211,\n",
       " 223,\n",
       " 227,\n",
       " 229,\n",
       " 233,\n",
       " 239,\n",
       " 241,\n",
       " 251,\n",
       " 257,\n",
       " 263,\n",
       " 269,\n",
       " 271,\n",
       " 277,\n",
       " 281,\n",
       " 283,\n",
       " 293,\n",
       " 307,\n",
       " 311,\n",
       " 313,\n",
       " 317,\n",
       " 331,\n",
       " 337,\n",
       " 347,\n",
       " 349,\n",
       " 353,\n",
       " 359,\n",
       " 367,\n",
       " 373,\n",
       " 379,\n",
       " 383,\n",
       " 389,\n",
       " 397,\n",
       " 401,\n",
       " 409,\n",
       " 419,\n",
       " 421,\n",
       " 431,\n",
       " 433,\n",
       " 439,\n",
       " 443,\n",
       " 449,\n",
       " 457,\n",
       " 461,\n",
       " 463,\n",
       " 467,\n",
       " 479,\n",
       " 487,\n",
       " 491,\n",
       " 499,\n",
       " 503,\n",
       " 509,\n",
       " 521,\n",
       " 523,\n",
       " 541,\n",
       " 547,\n",
       " 557,\n",
       " 563,\n",
       " 569,\n",
       " 571,\n",
       " 577,\n",
       " 587,\n",
       " 593,\n",
       " 599,\n",
       " 601,\n",
       " 607,\n",
       " 613,\n",
       " 617,\n",
       " 619,\n",
       " 631,\n",
       " 641,\n",
       " 643,\n",
       " 647,\n",
       " 653,\n",
       " 659,\n",
       " 661,\n",
       " 673,\n",
       " 677,\n",
       " 683,\n",
       " 691,\n",
       " 701,\n",
       " 709,\n",
       " 719,\n",
       " 727,\n",
       " 733,\n",
       " 739,\n",
       " 743,\n",
       " 751,\n",
       " 757,\n",
       " 761,\n",
       " 769,\n",
       " 773,\n",
       " 787,\n",
       " 797,\n",
       " 809,\n",
       " 811,\n",
       " 821,\n",
       " 823,\n",
       " 827,\n",
       " 829,\n",
       " 839,\n",
       " 853,\n",
       " 857,\n",
       " 859,\n",
       " 863,\n",
       " 877,\n",
       " 881,\n",
       " 883,\n",
       " 887,\n",
       " 907,\n",
       " 911,\n",
       " 919,\n",
       " 929,\n",
       " 937,\n",
       " 941,\n",
       " 947,\n",
       " 953,\n",
       " 967,\n",
       " 971,\n",
       " 977,\n",
       " 983,\n",
       " 991,\n",
       " 997,\n",
       " 1009,\n",
       " 1013,\n",
       " 1019,\n",
       " 1021,\n",
       " 1031,\n",
       " 1033,\n",
       " 1039,\n",
       " 1049,\n",
       " 1051,\n",
       " 1061,\n",
       " 1063,\n",
       " 1069,\n",
       " 1087,\n",
       " 1091,\n",
       " 1093,\n",
       " 1097,\n",
       " 1103,\n",
       " 1109,\n",
       " 1117,\n",
       " 1123,\n",
       " 1129,\n",
       " 1151,\n",
       " 1153,\n",
       " 1163,\n",
       " 1171,\n",
       " 1181,\n",
       " 1187,\n",
       " 1193,\n",
       " 1201,\n",
       " 1213,\n",
       " 1217,\n",
       " 1223,\n",
       " 1229,\n",
       " 1231,\n",
       " 1237,\n",
       " 1249,\n",
       " 1259,\n",
       " 1277,\n",
       " 1279,\n",
       " 1283,\n",
       " 1289,\n",
       " 1291,\n",
       " 1297,\n",
       " 1301,\n",
       " 1303,\n",
       " 1307,\n",
       " 1319,\n",
       " 1321,\n",
       " 1327,\n",
       " 1361,\n",
       " 1367,\n",
       " 1373,\n",
       " 1381,\n",
       " 1399,\n",
       " 1409,\n",
       " 1423,\n",
       " 1427,\n",
       " 1429,\n",
       " 1433,\n",
       " 1439,\n",
       " 1447,\n",
       " 1451,\n",
       " 1453,\n",
       " 1459,\n",
       " 1471,\n",
       " 1481,\n",
       " 1483,\n",
       " 1487,\n",
       " 1489,\n",
       " 1493,\n",
       " 1499,\n",
       " 1511,\n",
       " 1523,\n",
       " 1531,\n",
       " 1543,\n",
       " 1549,\n",
       " 1553,\n",
       " 1559,\n",
       " 1567,\n",
       " 1571,\n",
       " 1579,\n",
       " 1583,\n",
       " 1597,\n",
       " 1601,\n",
       " 1607,\n",
       " 1609,\n",
       " 1613,\n",
       " 1619,\n",
       " 1621,\n",
       " 1627,\n",
       " 1637,\n",
       " 1657,\n",
       " 1663,\n",
       " 1667,\n",
       " 1669,\n",
       " 1693,\n",
       " 1697,\n",
       " 1699,\n",
       " 1709,\n",
       " 1721,\n",
       " 1723,\n",
       " 1733,\n",
       " 1741,\n",
       " 1747,\n",
       " 1753,\n",
       " 1759,\n",
       " 1777,\n",
       " 1783,\n",
       " 1787,\n",
       " 1789,\n",
       " 1801,\n",
       " 1811,\n",
       " 1823,\n",
       " 1831,\n",
       " 1847,\n",
       " 1861,\n",
       " 1867,\n",
       " 1871,\n",
       " 1873,\n",
       " 1877,\n",
       " 1879,\n",
       " 1889,\n",
       " 1901,\n",
       " 1907,\n",
       " 1913,\n",
       " 1931,\n",
       " 1933,\n",
       " 1949,\n",
       " 1951,\n",
       " 1973,\n",
       " 1979,\n",
       " 1987,\n",
       " 1993,\n",
       " 1997,\n",
       " 1999,\n",
       " 2003,\n",
       " 2011,\n",
       " 2017,\n",
       " 2027,\n",
       " 2029,\n",
       " 2039,\n",
       " 2053,\n",
       " 2063,\n",
       " 2069,\n",
       " 2081,\n",
       " 2083,\n",
       " 2087,\n",
       " 2089,\n",
       " 2099,\n",
       " 2111,\n",
       " 2113,\n",
       " 2129,\n",
       " 2131,\n",
       " 2137,\n",
       " 2141,\n",
       " 2143,\n",
       " 2153,\n",
       " 2161,\n",
       " 2179,\n",
       " 2203,\n",
       " 2207,\n",
       " 2213,\n",
       " 2221,\n",
       " 2237,\n",
       " 2239,\n",
       " 2243,\n",
       " 2251,\n",
       " 2267,\n",
       " 2269,\n",
       " 2273,\n",
       " 2281,\n",
       " 2287,\n",
       " 2293,\n",
       " 2297,\n",
       " 2309,\n",
       " 2311,\n",
       " 2333,\n",
       " 2339,\n",
       " 2341,\n",
       " 2347,\n",
       " 2351,\n",
       " 2357,\n",
       " 2371,\n",
       " 2377,\n",
       " 2381,\n",
       " 2383,\n",
       " 2389,\n",
       " 2393,\n",
       " 2399,\n",
       " 2411,\n",
       " 2417,\n",
       " 2423,\n",
       " 2437,\n",
       " 2441,\n",
       " 2447,\n",
       " 2459,\n",
       " 2467,\n",
       " 2473,\n",
       " 2477,\n",
       " 2503,\n",
       " 2521,\n",
       " 2531,\n",
       " 2539,\n",
       " 2543,\n",
       " 2549,\n",
       " 2551,\n",
       " 2557,\n",
       " 2579,\n",
       " 2591,\n",
       " 2593,\n",
       " 2609,\n",
       " 2617,\n",
       " 2621,\n",
       " 2633,\n",
       " 2647,\n",
       " 2657,\n",
       " 2659,\n",
       " 2663,\n",
       " 2671,\n",
       " 2677,\n",
       " 2683,\n",
       " 2687,\n",
       " 2689,\n",
       " 2693,\n",
       " 2699,\n",
       " 2707,\n",
       " 2711,\n",
       " 2713,\n",
       " 2719,\n",
       " 2729,\n",
       " 2731,\n",
       " 2741,\n",
       " 2749,\n",
       " 2753,\n",
       " 2767,\n",
       " 2777,\n",
       " 2789,\n",
       " 2791,\n",
       " 2797,\n",
       " 2801,\n",
       " 2803,\n",
       " 2819,\n",
       " 2833,\n",
       " 2837,\n",
       " 2843,\n",
       " 2851,\n",
       " 2857,\n",
       " 2861,\n",
       " 2879,\n",
       " 2887,\n",
       " 2897,\n",
       " 2903,\n",
       " 2909,\n",
       " 2917,\n",
       " 2927,\n",
       " 2939,\n",
       " 2953,\n",
       " 2957,\n",
       " 2963,\n",
       " 2969,\n",
       " 2971,\n",
       " 2999,\n",
       " 3001,\n",
       " 3011,\n",
       " 3019,\n",
       " 3023,\n",
       " 3037,\n",
       " 3041,\n",
       " 3049,\n",
       " 3061,\n",
       " 3067,\n",
       " 3079,\n",
       " 3083,\n",
       " 3089,\n",
       " 3109,\n",
       " 3119,\n",
       " 3121,\n",
       " 3137,\n",
       " 3163,\n",
       " 3167,\n",
       " 3169,\n",
       " 3181,\n",
       " 3187,\n",
       " 3191,\n",
       " 3203,\n",
       " 3209,\n",
       " 3217,\n",
       " 3221,\n",
       " 3229,\n",
       " 3251,\n",
       " 3253,\n",
       " 3257,\n",
       " 3259,\n",
       " 3271,\n",
       " 3299,\n",
       " 3301,\n",
       " 3307,\n",
       " 3313,\n",
       " 3319,\n",
       " 3323,\n",
       " 3329,\n",
       " 3331,\n",
       " 3343,\n",
       " 3347,\n",
       " 3359,\n",
       " 3361,\n",
       " 3371,\n",
       " 3373,\n",
       " 3389,\n",
       " 3391,\n",
       " 3407,\n",
       " 3413,\n",
       " 3433,\n",
       " 3449,\n",
       " 3457,\n",
       " 3461,\n",
       " 3463,\n",
       " 3467,\n",
       " 3469,\n",
       " 3491,\n",
       " 3499,\n",
       " 3511,\n",
       " 3517,\n",
       " 3527,\n",
       " 3529,\n",
       " 3533,\n",
       " 3539,\n",
       " 3541,\n",
       " 3547,\n",
       " 3557,\n",
       " 3559,\n",
       " 3571,\n",
       " 3581,\n",
       " 3583,\n",
       " 3593,\n",
       " 3607,\n",
       " 3613,\n",
       " 3617,\n",
       " 3623,\n",
       " 3631,\n",
       " 3637,\n",
       " 3643,\n",
       " 3659,\n",
       " 3671,\n",
       " 3673,\n",
       " 3677,\n",
       " 3691,\n",
       " 3697,\n",
       " 3701,\n",
       " 3709,\n",
       " 3719,\n",
       " 3727,\n",
       " 3733,\n",
       " 3739,\n",
       " 3761,\n",
       " 3767,\n",
       " 3769,\n",
       " 3779,\n",
       " 3793,\n",
       " 3797,\n",
       " 3803,\n",
       " 3821,\n",
       " 3823,\n",
       " 3833,\n",
       " 3847,\n",
       " 3851,\n",
       " 3853,\n",
       " 3863,\n",
       " 3877,\n",
       " 3881,\n",
       " 3889,\n",
       " 3907,\n",
       " 3911,\n",
       " 3917,\n",
       " 3919,\n",
       " 3923,\n",
       " 3929,\n",
       " 3931,\n",
       " 3943,\n",
       " 3947,\n",
       " 3967,\n",
       " 3989]"
      ]
     },
     "execution_count": 65,
     "metadata": {},
     "output_type": "execute_result"
    }
   ],
   "source": [
    "%%time\n",
    "get_prime_numbers(4000)"
   ]
  },
  {
   "cell_type": "code",
   "execution_count": 66,
   "metadata": {
    "collapsed": false
   },
   "outputs": [
    {
     "name": "stdout",
     "output_type": "stream",
     "text": [
      "Wall time: 58 ms\n"
     ]
    },
    {
     "data": {
      "text/plain": [
       "[2,\n",
       " 3,\n",
       " 5,\n",
       " 7,\n",
       " 11,\n",
       " 13,\n",
       " 17,\n",
       " 19,\n",
       " 23,\n",
       " 29,\n",
       " 31,\n",
       " 37,\n",
       " 41,\n",
       " 43,\n",
       " 47,\n",
       " 53,\n",
       " 59,\n",
       " 61,\n",
       " 67,\n",
       " 71,\n",
       " 73,\n",
       " 79,\n",
       " 83,\n",
       " 89,\n",
       " 97,\n",
       " 101,\n",
       " 103,\n",
       " 107,\n",
       " 109,\n",
       " 113,\n",
       " 127,\n",
       " 131,\n",
       " 137,\n",
       " 139,\n",
       " 149,\n",
       " 151,\n",
       " 157,\n",
       " 163,\n",
       " 167,\n",
       " 173,\n",
       " 179,\n",
       " 181,\n",
       " 191,\n",
       " 193,\n",
       " 197,\n",
       " 199,\n",
       " 211,\n",
       " 223,\n",
       " 227,\n",
       " 229,\n",
       " 233,\n",
       " 239,\n",
       " 241,\n",
       " 251,\n",
       " 257,\n",
       " 263,\n",
       " 269,\n",
       " 271,\n",
       " 277,\n",
       " 281,\n",
       " 283,\n",
       " 293,\n",
       " 307,\n",
       " 311,\n",
       " 313,\n",
       " 317,\n",
       " 331,\n",
       " 337,\n",
       " 347,\n",
       " 349,\n",
       " 353,\n",
       " 359,\n",
       " 367,\n",
       " 373,\n",
       " 379,\n",
       " 383,\n",
       " 389,\n",
       " 397,\n",
       " 401,\n",
       " 409,\n",
       " 419,\n",
       " 421,\n",
       " 431,\n",
       " 433,\n",
       " 439,\n",
       " 443,\n",
       " 449,\n",
       " 457,\n",
       " 461,\n",
       " 463,\n",
       " 467,\n",
       " 479,\n",
       " 487,\n",
       " 491,\n",
       " 499,\n",
       " 503,\n",
       " 509,\n",
       " 521,\n",
       " 523,\n",
       " 541,\n",
       " 547,\n",
       " 557,\n",
       " 563,\n",
       " 569,\n",
       " 571,\n",
       " 577,\n",
       " 587,\n",
       " 593,\n",
       " 599,\n",
       " 601,\n",
       " 607,\n",
       " 613,\n",
       " 617,\n",
       " 619,\n",
       " 631,\n",
       " 641,\n",
       " 643,\n",
       " 647,\n",
       " 653,\n",
       " 659,\n",
       " 661,\n",
       " 673,\n",
       " 677,\n",
       " 683,\n",
       " 691,\n",
       " 701,\n",
       " 709,\n",
       " 719,\n",
       " 727,\n",
       " 733,\n",
       " 739,\n",
       " 743,\n",
       " 751,\n",
       " 757,\n",
       " 761,\n",
       " 769,\n",
       " 773,\n",
       " 787,\n",
       " 797,\n",
       " 809,\n",
       " 811,\n",
       " 821,\n",
       " 823,\n",
       " 827,\n",
       " 829,\n",
       " 839,\n",
       " 853,\n",
       " 857,\n",
       " 859,\n",
       " 863,\n",
       " 877,\n",
       " 881,\n",
       " 883,\n",
       " 887,\n",
       " 907,\n",
       " 911,\n",
       " 919,\n",
       " 929,\n",
       " 937,\n",
       " 941,\n",
       " 947,\n",
       " 953,\n",
       " 967,\n",
       " 971,\n",
       " 977,\n",
       " 983,\n",
       " 991,\n",
       " 997,\n",
       " 1009,\n",
       " 1013,\n",
       " 1019,\n",
       " 1021,\n",
       " 1031,\n",
       " 1033,\n",
       " 1039,\n",
       " 1049,\n",
       " 1051,\n",
       " 1061,\n",
       " 1063,\n",
       " 1069,\n",
       " 1087,\n",
       " 1091,\n",
       " 1093,\n",
       " 1097,\n",
       " 1103,\n",
       " 1109,\n",
       " 1117,\n",
       " 1123,\n",
       " 1129,\n",
       " 1151,\n",
       " 1153,\n",
       " 1163,\n",
       " 1171,\n",
       " 1181,\n",
       " 1187,\n",
       " 1193,\n",
       " 1201,\n",
       " 1213,\n",
       " 1217,\n",
       " 1223,\n",
       " 1229,\n",
       " 1231,\n",
       " 1237,\n",
       " 1249,\n",
       " 1259,\n",
       " 1277,\n",
       " 1279,\n",
       " 1283,\n",
       " 1289,\n",
       " 1291,\n",
       " 1297,\n",
       " 1301,\n",
       " 1303,\n",
       " 1307,\n",
       " 1319,\n",
       " 1321,\n",
       " 1327,\n",
       " 1361,\n",
       " 1367,\n",
       " 1373,\n",
       " 1381,\n",
       " 1399,\n",
       " 1409,\n",
       " 1423,\n",
       " 1427,\n",
       " 1429,\n",
       " 1433,\n",
       " 1439,\n",
       " 1447,\n",
       " 1451,\n",
       " 1453,\n",
       " 1459,\n",
       " 1471,\n",
       " 1481,\n",
       " 1483,\n",
       " 1487,\n",
       " 1489,\n",
       " 1493,\n",
       " 1499,\n",
       " 1511,\n",
       " 1523,\n",
       " 1531,\n",
       " 1543,\n",
       " 1549,\n",
       " 1553,\n",
       " 1559,\n",
       " 1567,\n",
       " 1571,\n",
       " 1579,\n",
       " 1583,\n",
       " 1597,\n",
       " 1601,\n",
       " 1607,\n",
       " 1609,\n",
       " 1613,\n",
       " 1619,\n",
       " 1621,\n",
       " 1627,\n",
       " 1637,\n",
       " 1657,\n",
       " 1663,\n",
       " 1667,\n",
       " 1669,\n",
       " 1693,\n",
       " 1697,\n",
       " 1699,\n",
       " 1709,\n",
       " 1721,\n",
       " 1723,\n",
       " 1733,\n",
       " 1741,\n",
       " 1747,\n",
       " 1753,\n",
       " 1759,\n",
       " 1777,\n",
       " 1783,\n",
       " 1787,\n",
       " 1789,\n",
       " 1801,\n",
       " 1811,\n",
       " 1823,\n",
       " 1831,\n",
       " 1847,\n",
       " 1861,\n",
       " 1867,\n",
       " 1871,\n",
       " 1873,\n",
       " 1877,\n",
       " 1879,\n",
       " 1889,\n",
       " 1901,\n",
       " 1907,\n",
       " 1913,\n",
       " 1931,\n",
       " 1933,\n",
       " 1949,\n",
       " 1951,\n",
       " 1973,\n",
       " 1979,\n",
       " 1987,\n",
       " 1993,\n",
       " 1997,\n",
       " 1999,\n",
       " 2003,\n",
       " 2011,\n",
       " 2017,\n",
       " 2027,\n",
       " 2029,\n",
       " 2039,\n",
       " 2053,\n",
       " 2063,\n",
       " 2069,\n",
       " 2081,\n",
       " 2083,\n",
       " 2087,\n",
       " 2089,\n",
       " 2099,\n",
       " 2111,\n",
       " 2113,\n",
       " 2129,\n",
       " 2131,\n",
       " 2137,\n",
       " 2141,\n",
       " 2143,\n",
       " 2153,\n",
       " 2161,\n",
       " 2179,\n",
       " 2203,\n",
       " 2207,\n",
       " 2213,\n",
       " 2221,\n",
       " 2237,\n",
       " 2239,\n",
       " 2243,\n",
       " 2251,\n",
       " 2267,\n",
       " 2269,\n",
       " 2273,\n",
       " 2281,\n",
       " 2287,\n",
       " 2293,\n",
       " 2297,\n",
       " 2309,\n",
       " 2311,\n",
       " 2333,\n",
       " 2339,\n",
       " 2341,\n",
       " 2347,\n",
       " 2351,\n",
       " 2357,\n",
       " 2371,\n",
       " 2377,\n",
       " 2381,\n",
       " 2383,\n",
       " 2389,\n",
       " 2393,\n",
       " 2399,\n",
       " 2411,\n",
       " 2417,\n",
       " 2423,\n",
       " 2437,\n",
       " 2441,\n",
       " 2447,\n",
       " 2459,\n",
       " 2467,\n",
       " 2473,\n",
       " 2477,\n",
       " 2503,\n",
       " 2521,\n",
       " 2531,\n",
       " 2539,\n",
       " 2543,\n",
       " 2549,\n",
       " 2551,\n",
       " 2557,\n",
       " 2579,\n",
       " 2591,\n",
       " 2593,\n",
       " 2609,\n",
       " 2617,\n",
       " 2621,\n",
       " 2633,\n",
       " 2647,\n",
       " 2657,\n",
       " 2659,\n",
       " 2663,\n",
       " 2671,\n",
       " 2677,\n",
       " 2683,\n",
       " 2687,\n",
       " 2689,\n",
       " 2693,\n",
       " 2699,\n",
       " 2707,\n",
       " 2711,\n",
       " 2713,\n",
       " 2719,\n",
       " 2729,\n",
       " 2731,\n",
       " 2741,\n",
       " 2749,\n",
       " 2753,\n",
       " 2767,\n",
       " 2777,\n",
       " 2789,\n",
       " 2791,\n",
       " 2797,\n",
       " 2801,\n",
       " 2803,\n",
       " 2819,\n",
       " 2833,\n",
       " 2837,\n",
       " 2843,\n",
       " 2851,\n",
       " 2857,\n",
       " 2861,\n",
       " 2879,\n",
       " 2887,\n",
       " 2897,\n",
       " 2903,\n",
       " 2909,\n",
       " 2917,\n",
       " 2927,\n",
       " 2939,\n",
       " 2953,\n",
       " 2957,\n",
       " 2963,\n",
       " 2969,\n",
       " 2971,\n",
       " 2999,\n",
       " 3001,\n",
       " 3011,\n",
       " 3019,\n",
       " 3023,\n",
       " 3037,\n",
       " 3041,\n",
       " 3049,\n",
       " 3061,\n",
       " 3067,\n",
       " 3079,\n",
       " 3083,\n",
       " 3089,\n",
       " 3109,\n",
       " 3119,\n",
       " 3121,\n",
       " 3137,\n",
       " 3163,\n",
       " 3167,\n",
       " 3169,\n",
       " 3181,\n",
       " 3187,\n",
       " 3191,\n",
       " 3203,\n",
       " 3209,\n",
       " 3217,\n",
       " 3221,\n",
       " 3229,\n",
       " 3251,\n",
       " 3253,\n",
       " 3257,\n",
       " 3259,\n",
       " 3271,\n",
       " 3299,\n",
       " 3301,\n",
       " 3307,\n",
       " 3313,\n",
       " 3319,\n",
       " 3323,\n",
       " 3329,\n",
       " 3331,\n",
       " 3343,\n",
       " 3347,\n",
       " 3359,\n",
       " 3361,\n",
       " 3371,\n",
       " 3373,\n",
       " 3389,\n",
       " 3391,\n",
       " 3407,\n",
       " 3413,\n",
       " 3433,\n",
       " 3449,\n",
       " 3457,\n",
       " 3461,\n",
       " 3463,\n",
       " 3467,\n",
       " 3469,\n",
       " 3491,\n",
       " 3499,\n",
       " 3511,\n",
       " 3517,\n",
       " 3527,\n",
       " 3529,\n",
       " 3533,\n",
       " 3539,\n",
       " 3541,\n",
       " 3547,\n",
       " 3557,\n",
       " 3559,\n",
       " 3571,\n",
       " 3581,\n",
       " 3583,\n",
       " 3593,\n",
       " 3607,\n",
       " 3613,\n",
       " 3617,\n",
       " 3623,\n",
       " 3631,\n",
       " 3637,\n",
       " 3643,\n",
       " 3659,\n",
       " 3671,\n",
       " 3673,\n",
       " 3677,\n",
       " 3691,\n",
       " 3697,\n",
       " 3701,\n",
       " 3709,\n",
       " 3719,\n",
       " 3727,\n",
       " 3733,\n",
       " 3739,\n",
       " 3761,\n",
       " 3767,\n",
       " 3769,\n",
       " 3779,\n",
       " 3793,\n",
       " 3797,\n",
       " 3803,\n",
       " 3821,\n",
       " 3823,\n",
       " 3833,\n",
       " 3847,\n",
       " 3851,\n",
       " 3853,\n",
       " 3863,\n",
       " 3877,\n",
       " 3881,\n",
       " 3889,\n",
       " 3907,\n",
       " 3911,\n",
       " 3917,\n",
       " 3919,\n",
       " 3923,\n",
       " 3929,\n",
       " 3931,\n",
       " 3943,\n",
       " 3947,\n",
       " 3967,\n",
       " 3989]"
      ]
     },
     "execution_count": 66,
     "metadata": {},
     "output_type": "execute_result"
    }
   ],
   "source": [
    "%%time\n",
    "get_prime_numbers_optimized(4000)"
   ]
  },
  {
   "cell_type": "code",
   "execution_count": 67,
   "metadata": {
    "collapsed": true
   },
   "outputs": [],
   "source": [
    "# 엄청나게 차이남"
   ]
  },
  {
   "cell_type": "code",
   "execution_count": 68,
   "metadata": {
    "collapsed": true
   },
   "outputs": [],
   "source": [
    "def sum(a, b):\n",
    "    return a + b"
   ]
  },
  {
   "cell_type": "code",
   "execution_count": 69,
   "metadata": {
    "collapsed": true
   },
   "outputs": [],
   "source": [
    "result = sum(1, 3)"
   ]
  },
  {
   "cell_type": "code",
   "execution_count": 70,
   "metadata": {
    "collapsed": true
   },
   "outputs": [],
   "source": [
    "# 다른 함수에 넣을 수 있음"
   ]
  },
  {
   "cell_type": "code",
   "execution_count": 71,
   "metadata": {
    "collapsed": true
   },
   "outputs": [],
   "source": [
    "# sum => function\n",
    "# a, b => parameter ( 함수를 정의하는 부분 )\n",
    "# 1, 3 => argument ( 실제 인자 )\n",
    "# parameter, argument를 혼용해서 많이 씀"
   ]
  },
  {
   "cell_type": "code",
   "execution_count": 72,
   "metadata": {
    "collapsed": true
   },
   "outputs": [],
   "source": [
    "# 입력받은 모든 숫자를 더해주는 'sum'이라는 함수를 만들자\n",
    "\n",
    "def sum(*args):\n",
    "    total = 0\n",
    "    for arg in args:\n",
    "        total += arg\n",
    "    return total"
   ]
  },
  {
   "cell_type": "code",
   "execution_count": 73,
   "metadata": {
    "collapsed": false
   },
   "outputs": [
    {
     "data": {
      "text/plain": [
       "6"
      ]
     },
     "execution_count": 73,
     "metadata": {},
     "output_type": "execute_result"
    }
   ],
   "source": [
    "sum(1,2,3)"
   ]
  },
  {
   "cell_type": "code",
   "execution_count": 74,
   "metadata": {
    "collapsed": true
   },
   "outputs": [],
   "source": [
    "def greeting(name, course):\n",
    "    print(\"{name}님, {course} 등록을 축하드립니다.\".format(name=name, course=course))"
   ]
  },
  {
   "cell_type": "code",
   "execution_count": 75,
   "metadata": {
    "collapsed": true
   },
   "outputs": [],
   "source": [
    "values = (\"안수찬\", \"데사스\")"
   ]
  },
  {
   "cell_type": "code",
   "execution_count": 76,
   "metadata": {
    "collapsed": false
   },
   "outputs": [
    {
     "ename": "TypeError",
     "evalue": "greeting() missing 1 required positional argument: 'course'",
     "output_type": "error",
     "traceback": [
      "\u001b[1;31m---------------------------------------------------------------------------\u001b[0m",
      "\u001b[1;31mTypeError\u001b[0m                                 Traceback (most recent call last)",
      "\u001b[1;32m<ipython-input-76-abdbdcfdf4e7>\u001b[0m in \u001b[0;36m<module>\u001b[1;34m()\u001b[0m\n\u001b[1;32m----> 1\u001b[1;33m \u001b[0mgreeting\u001b[0m\u001b[1;33m(\u001b[0m\u001b[0mvalues\u001b[0m\u001b[1;33m)\u001b[0m\u001b[1;33m\u001b[0m\u001b[0m\n\u001b[0m",
      "\u001b[1;31mTypeError\u001b[0m: greeting() missing 1 required positional argument: 'course'"
     ]
    }
   ],
   "source": [
    "greeting(values) # course가 입력되지 않았다는 에러"
   ]
  },
  {
   "cell_type": "code",
   "execution_count": 77,
   "metadata": {
    "collapsed": true
   },
   "outputs": [],
   "source": [
    "# unpack / unpacking : 튜플이나 딕셔너리 형태를 나눠줌"
   ]
  },
  {
   "cell_type": "code",
   "execution_count": 78,
   "metadata": {
    "collapsed": false
   },
   "outputs": [
    {
     "name": "stdout",
     "output_type": "stream",
     "text": [
      "안수찬님, 데사스 등록을 축하드립니다.\n"
     ]
    }
   ],
   "source": [
    "greeting(*values) # * 하나를 넣으면, unpack"
   ]
  },
  {
   "cell_type": "code",
   "execution_count": 81,
   "metadata": {
    "collapsed": false
   },
   "outputs": [],
   "source": [
    "def greeting(name, why, course):\n",
    "    print(\"{name} | {course} | {why}\".format(\n",
    "            name = name,\n",
    "            course = course,\n",
    "            why = why,        \n",
    "        ))"
   ]
  },
  {
   "cell_type": "code",
   "execution_count": 82,
   "metadata": {
    "collapsed": true
   },
   "outputs": [],
   "source": [
    "values = (\"변성윤\",\"개발자\",\"데사스\")"
   ]
  },
  {
   "cell_type": "code",
   "execution_count": 83,
   "metadata": {
    "collapsed": false
   },
   "outputs": [
    {
     "name": "stdout",
     "output_type": "stream",
     "text": [
      "변성윤 | 데사스 | 개발자\n"
     ]
    }
   ],
   "source": [
    "greeting(*values)"
   ]
  },
  {
   "cell_type": "code",
   "execution_count": 91,
   "metadata": {
    "collapsed": true
   },
   "outputs": [],
   "source": [
    "# unnamed => *args ( tuple ), 순서에 맞게 들어감\n",
    "# 참고로 튜플을 unpacking할 때 zip을 사용함\n",
    "# named => **kwargs ( dict ), 이름에 맞게 들어감"
   ]
  },
  {
   "cell_type": "code",
   "execution_count": 85,
   "metadata": {
    "collapsed": true
   },
   "outputs": [],
   "source": [
    "def greeting(name, course):\n",
    "    print(\"{name}님, {course} 등록을 축하드립니다.\".format(name=name, course=course))"
   ]
  },
  {
   "cell_type": "code",
   "execution_count": 87,
   "metadata": {
    "collapsed": false
   },
   "outputs": [
    {
     "name": "stdout",
     "output_type": "stream",
     "text": [
      "변성윤님, 데사스 등록을 축하드립니다.\n"
     ]
    }
   ],
   "source": [
    "greeting(name=\"변성윤\",course=\"데사스\") # named\n",
    "# 딕셔너리랑 유사함..!!"
   ]
  },
  {
   "cell_type": "code",
   "execution_count": 88,
   "metadata": {
    "collapsed": true
   },
   "outputs": [],
   "source": [
    "values = {\n",
    "    \"name\":\"변성윤\",\n",
    "    \"course\":\"데사스\"\n",
    "}"
   ]
  },
  {
   "cell_type": "code",
   "execution_count": 89,
   "metadata": {
    "collapsed": false
   },
   "outputs": [
    {
     "name": "stdout",
     "output_type": "stream",
     "text": [
      "name님, course 등록을 축하드립니다.\n"
     ]
    }
   ],
   "source": [
    "greeting(*values) # key값만 출력됨"
   ]
  },
  {
   "cell_type": "code",
   "execution_count": 90,
   "metadata": {
    "collapsed": false
   },
   "outputs": [
    {
     "name": "stdout",
     "output_type": "stream",
     "text": [
      "변성윤님, 데사스 등록을 축하드립니다.\n"
     ]
    }
   ],
   "source": [
    "greeting(**values) # **을 사용하면 value값이 출력됨!"
   ]
  },
  {
   "cell_type": "code",
   "execution_count": null,
   "metadata": {
    "collapsed": true
   },
   "outputs": [],
   "source": []
  },
  {
   "cell_type": "code",
   "execution_count": 92,
   "metadata": {
    "collapsed": true
   },
   "outputs": [],
   "source": [
    "def print_all_informations(**kwargs):\n",
    "    # **kwargs : 딕셔너리 스타일\n",
    "    for key, value in kwargs.items():\n",
    "        print(\"{key} => {value}\".format(key=key, value=value))"
   ]
  },
  {
   "cell_type": "code",
   "execution_count": 93,
   "metadata": {
    "collapsed": true
   },
   "outputs": [],
   "source": [
    "informations = {\n",
    "    \"name\" :\"변성윤\",\n",
    "    \"email\" : \"zzsza@naver.com\",\n",
    "    \"phone\" : \"010000000\"\n",
    "    \n",
    "}"
   ]
  },
  {
   "cell_type": "code",
   "execution_count": 96,
   "metadata": {
    "collapsed": false
   },
   "outputs": [
    {
     "name": "stdout",
     "output_type": "stream",
     "text": [
      "name => 변성윤\n",
      "email => zzsza@naver.com\n",
      "phone => 010000000\n"
     ]
    }
   ],
   "source": [
    "print_all_informations(**informations)"
   ]
  },
  {
   "cell_type": "code",
   "execution_count": 97,
   "metadata": {
    "collapsed": false
   },
   "outputs": [
    {
     "name": "stdout",
     "output_type": "stream",
     "text": [
      "name => 변성윤\n",
      "course => 데사스\n"
     ]
    }
   ],
   "source": [
    "print_all_informations(name=\"변성윤\", course=\"데사스\")"
   ]
  },
  {
   "cell_type": "code",
   "execution_count": null,
   "metadata": {
    "collapsed": true
   },
   "outputs": [],
   "source": [
    "def 누가만들어둔 함수 (이건 필수값1, 필수값2, *args, **kwargs)\n",
    "# 이런식으로 라이브러리가 만들어져 있을거에요."
   ]
  },
  {
   "cell_type": "markdown",
   "metadata": {},
   "source": [
    "# lambda\n",
    "# 이름이 없는 함수 ( 익명 함수 )"
   ]
  },
  {
   "cell_type": "code",
   "execution_count": 98,
   "metadata": {
    "collapsed": true
   },
   "outputs": [],
   "source": [
    "def increment(x):\n",
    "    return x + 1"
   ]
  },
  {
   "cell_type": "code",
   "execution_count": 99,
   "metadata": {
    "collapsed": false
   },
   "outputs": [
    {
     "data": {
      "text/plain": [
       "56"
      ]
     },
     "execution_count": 99,
     "metadata": {},
     "output_type": "execute_result"
    }
   ],
   "source": [
    "increment(55)"
   ]
  },
  {
   "cell_type": "code",
   "execution_count": 100,
   "metadata": {
    "collapsed": true
   },
   "outputs": [],
   "source": [
    "# 이런 함수를 굳이 꼭 만들어야될까?"
   ]
  },
  {
   "cell_type": "code",
   "execution_count": 101,
   "metadata": {
    "collapsed": false
   },
   "outputs": [
    {
     "data": {
      "text/plain": [
       "<function __main__.<lambda>>"
      ]
     },
     "execution_count": 101,
     "metadata": {},
     "output_type": "execute_result"
    }
   ],
   "source": [
    "lambda x: x+1"
   ]
  },
  {
   "cell_type": "code",
   "execution_count": 102,
   "metadata": {
    "collapsed": true
   },
   "outputs": [],
   "source": [
    "increment_lambda = lambda x: x+1 # 람다 함수에 이름을 붙임"
   ]
  },
  {
   "cell_type": "code",
   "execution_count": 103,
   "metadata": {
    "collapsed": false
   },
   "outputs": [
    {
     "data": {
      "text/plain": [
       "34"
      ]
     },
     "execution_count": 103,
     "metadata": {},
     "output_type": "execute_result"
    }
   ],
   "source": [
    "increment_lambda(33)"
   ]
  },
  {
   "cell_type": "code",
   "execution_count": 104,
   "metadata": {
    "collapsed": true
   },
   "outputs": [],
   "source": [
    "# 람다는 한번 쓰고 버린다는 느낌으로 사용!"
   ]
  },
  {
   "cell_type": "code",
   "execution_count": 105,
   "metadata": {
    "collapsed": false
   },
   "outputs": [
    {
     "data": {
      "text/plain": [
       "4"
      ]
     },
     "execution_count": 105,
     "metadata": {},
     "output_type": "execute_result"
    }
   ],
   "source": [
    "(lambda x: x+1)(3)"
   ]
  },
  {
   "cell_type": "code",
   "execution_count": 106,
   "metadata": {
    "collapsed": false
   },
   "outputs": [
    {
     "data": {
      "text/plain": [
       "30"
      ]
     },
     "execution_count": 106,
     "metadata": {},
     "output_type": "execute_result"
    }
   ],
   "source": [
    "(lambda x,y : x+y)(10, 20)"
   ]
  },
  {
   "cell_type": "code",
   "execution_count": 107,
   "metadata": {
    "collapsed": true
   },
   "outputs": [],
   "source": [
    "# 1줄짜리라면 람다! 2줄 이상이면 함수화가 좋지 않을까요?"
   ]
  },
  {
   "cell_type": "code",
   "execution_count": null,
   "metadata": {
    "collapsed": true
   },
   "outputs": [],
   "source": []
  }
 ],
 "metadata": {
  "kernelspec": {
   "display_name": "Python 3",
   "language": "python",
   "name": "python3"
  },
  "language_info": {
   "codemirror_mode": {
    "name": "ipython",
    "version": 3
   },
   "file_extension": ".py",
   "mimetype": "text/x-python",
   "name": "python",
   "nbconvert_exporter": "python",
   "pygments_lexer": "ipython3",
   "version": "3.5.1"
  }
 },
 "nbformat": 4,
 "nbformat_minor": 0
}
