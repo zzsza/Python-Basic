{
 "cells": [
  {
   "cell_type": "code",
   "execution_count": 1,
   "metadata": {
    "collapsed": true
   },
   "outputs": [],
   "source": [
    "# 여태까지 배운 것은 절차 지향 프로그램이이였음\n",
    "\n",
    "# 이런 절차 지향 프로그램은 모든 것에 대해 처리를 해줘야하기 때문에\n",
    "# 유지보수 측면에서 어려움\n",
    "\n",
    "\n",
    "# 이를 해결하기 위해 나온 것이 객체 지향 프로그래밍\n",
    "\n",
    "\n",
    "# 객체 지향 프로그래밍 ( object oriented programing )\n",
    "# 객체가 데이터를 가지고 있고, 각각의 데이터를 처리하는 방법을 알고 있음\n",
    "\n",
    "\n",
    "# 객체와 객체 사이에 서로 메세지를 전달 가능\n",
    "\n",
    "\n",
    "# 웹프스의 경우 객체 지향적인 프로그래밍을 많이 할 것이고\n",
    "\n",
    "# 데사스의 경우 절차 지향적인 프로그래밍을 많이 할 것임 => 이미 만들어져 있음\n",
    "# (실험 => 완벽하게 적합한 알고리즘을 찾는 과정)\n",
    "\n",
    "# 하지만 둘 다 알고 있어야 함..!!\n",
    "\n",
    "# 데이터 세부적인 내용은 객체지향으로 짜야 더 좋다는 것을 알아둬야 함\n",
    "\n",
    "\n",
    "#  함수형 프로그래밍\n",
    "# : 연산도 함수, 객체도 함수...\n",
    "#     => lambda, list comprehension... 스칼라"
   ]
  },
  {
   "cell_type": "code",
   "execution_count": 2,
   "metadata": {
    "collapsed": true
   },
   "outputs": [],
   "source": [
    "# 생활에서 보이는 모든 것들은 다 객체 지향이라고 보면 됨\n",
    "# 학생이라는 객체를 만들고 싶다!\n",
    "\n",
    "# 변성윤이란 학생을 만들고 싶다면\n",
    "# 학생이 무엇인가?\n",
    "\n",
    "class Student():\n",
    "    name = \"\"\n",
    "    age = \"\"\n",
    "\n",
    "    # 아직 개념적으로만 존재. "
   ]
  },
  {
   "cell_type": "code",
   "execution_count": null,
   "metadata": {
    "collapsed": true
   },
   "outputs": [],
   "source": [
    "zzsza = Student() # 이제 실질적으로 객체가 만들어짐\n",
    "\n",
    "zzsza.name = \"변성윤\"\n",
    "zzsza.age = \"27\""
   ]
  },
  {
   "cell_type": "code",
   "execution_count": 10,
   "metadata": {
    "collapsed": false
   },
   "outputs": [
    {
     "name": "stdout",
     "output_type": "stream",
     "text": [
      "변성윤\n"
     ]
    }
   ],
   "source": [
    "print(zzsza.name)"
   ]
  },
  {
   "cell_type": "code",
   "execution_count": 12,
   "metadata": {
    "collapsed": true
   },
   "outputs": [],
   "source": [
    "# 자기 소개를 할 수 있다는 것을 알게 됨\n",
    "\n",
    "\n",
    "class Student():\n",
    "    name = \"\"\n",
    "    age = \"\"\n",
    "    \n",
    "    def introduce(self): # self : 객체 자기 자신을 뜻함\n",
    "        print(\"안녕하세요, 저는 {age}살 {name}입니다.\".format(\n",
    "            age=self.age,\n",
    "            name=self.name\n",
    "            ))"
   ]
  },
  {
   "cell_type": "code",
   "execution_count": 14,
   "metadata": {
    "collapsed": false
   },
   "outputs": [
    {
     "name": "stdout",
     "output_type": "stream",
     "text": [
      "안녕하세요, 저는 27살 변성윤입니다.\n"
     ]
    }
   ],
   "source": [
    "zzsza = Student()\n",
    "zzsza.name = \"변성윤\"\n",
    "zzsza.age = \"27\"\n",
    "zzsza.introduce()"
   ]
  },
  {
   "cell_type": "code",
   "execution_count": 15,
   "metadata": {
    "collapsed": true
   },
   "outputs": [],
   "source": [
    "# 지금 코드는 문제가 있음\n",
    "# 학생이면 무조건 나이와 이름이 있어야 힘\n",
    "# 이름을 입력하지 않으면 객체가 만들어지지 않도록 해야하고\n",
    "# zzsza = Student(\"변성윤\", 27)  이런식으로 만들어져야함\n",
    "\n"
   ]
  },
  {
   "cell_type": "code",
   "execution_count": 20,
   "metadata": {
    "collapsed": true
   },
   "outputs": [],
   "source": [
    "class Student():\n",
    "\n",
    "    def __init__(self, name, age) :  # 학생을 만드는 시점에 반드시 __init__ 실행\n",
    "        self.name = name\n",
    "        self.age = age\n",
    "        print(\"학생 {name}({age})가 태어났습니다.\".format(\n",
    "            name = self.name,\n",
    "            age = self.age\n",
    "        ))\n",
    "    \n",
    "    def introduce(self): # self : 객체 자기 자신을 뜻함\n",
    "        print(\"안녕하세요, 저는 {age}살 {name}입니다.\".format(\n",
    "            age=self.age,\n",
    "            name=self.name\n",
    "            ))"
   ]
  },
  {
   "cell_type": "code",
   "execution_count": 18,
   "metadata": {
    "collapsed": false
   },
   "outputs": [
    {
     "ename": "TypeError",
     "evalue": "__init__() missing 2 required positional arguments: 'name' and 'age'",
     "output_type": "error",
     "traceback": [
      "\u001b[1;31m---------------------------------------------------------------------------\u001b[0m",
      "\u001b[1;31mTypeError\u001b[0m                                 Traceback (most recent call last)",
      "\u001b[1;32m<ipython-input-18-268908771b30>\u001b[0m in \u001b[0;36m<module>\u001b[1;34m()\u001b[0m\n\u001b[1;32m----> 1\u001b[1;33m \u001b[0mzzsza\u001b[0m \u001b[1;33m=\u001b[0m \u001b[0mStudent\u001b[0m\u001b[1;33m(\u001b[0m\u001b[1;33m)\u001b[0m \u001b[1;31m# 에러가 나옴\u001b[0m\u001b[1;33m\u001b[0m\u001b[0m\n\u001b[0m",
      "\u001b[1;31mTypeError\u001b[0m: __init__() missing 2 required positional arguments: 'name' and 'age'"
     ]
    }
   ],
   "source": [
    "zzsza = Student() # 에러가 나옴"
   ]
  },
  {
   "cell_type": "code",
   "execution_count": 17,
   "metadata": {
    "collapsed": false
   },
   "outputs": [
    {
     "name": "stdout",
     "output_type": "stream",
     "text": [
      "학생 변성윤(27)가 태어났습니다.\n"
     ]
    }
   ],
   "source": [
    "zzsza = Student(\"변성윤\", \"27\")"
   ]
  },
  {
   "cell_type": "code",
   "execution_count": 19,
   "metadata": {
    "collapsed": false
   },
   "outputs": [
    {
     "name": "stdout",
     "output_type": "stream",
     "text": [
      "안녕하세요, 저는 27살 변성윤입니다.\n"
     ]
    }
   ],
   "source": [
    "zzsza.introduce()"
   ]
  },
  {
   "cell_type": "code",
   "execution_count": 25,
   "metadata": {
    "collapsed": true
   },
   "outputs": [],
   "source": [
    "class Student():\n",
    "    campus = \"패스트 캠퍼스\"\n",
    "    \n",
    "    def __init__(self, name, age) :  \n",
    "        self.name = name\n",
    "        self.age = age\n",
    "        print(\"학생 {name}({age})가 태어났습니다.\".format(\n",
    "            name = self.name,\n",
    "            age = self.age\n",
    "        ))\n",
    "    \n",
    "    def introduce(self): # self : 객체 자기 자신을 뜻함\n",
    "        print(\"안녕하세요, 저는 {campus}에 다니는 {age}살 {name}입니다.\".format(\n",
    "            campus = self.campus,\n",
    "            age=self.age,\n",
    "            name=self.name\n",
    "            ))"
   ]
  },
  {
   "cell_type": "code",
   "execution_count": 27,
   "metadata": {
    "collapsed": false
   },
   "outputs": [
    {
     "name": "stdout",
     "output_type": "stream",
     "text": [
      "학생 변성윤(27)가 태어났습니다.\n",
      "안녕하세요, 저는 패스트 캠퍼스에 다니는 27살 변성윤입니다.\n"
     ]
    }
   ],
   "source": [
    "zzsza = Student(\"변성윤\", \"27\")\n",
    "zzsza.introduce()\n",
    "\n",
    "# zzsza.campus = \"~~~~\" 이렇게 강제로 바꿀 수 있는 단점이 존재함"
   ]
  },
  {
   "cell_type": "code",
   "execution_count": 28,
   "metadata": {
    "collapsed": false
   },
   "outputs": [
    {
     "data": {
      "text/plain": [
       "['__class__',\n",
       " '__delattr__',\n",
       " '__dict__',\n",
       " '__dir__',\n",
       " '__doc__',\n",
       " '__eq__',\n",
       " '__format__',\n",
       " '__ge__',\n",
       " '__getattribute__',\n",
       " '__gt__',\n",
       " '__hash__',\n",
       " '__init__',\n",
       " '__le__',\n",
       " '__lt__',\n",
       " '__module__',\n",
       " '__ne__',\n",
       " '__new__',\n",
       " '__reduce__',\n",
       " '__reduce_ex__',\n",
       " '__repr__',\n",
       " '__setattr__',\n",
       " '__sizeof__',\n",
       " '__str__',\n",
       " '__subclasshook__',\n",
       " '__weakref__',\n",
       " 'age',\n",
       " 'campus',\n",
       " 'introduce',\n",
       " 'name']"
      ]
     },
     "execution_count": 28,
     "metadata": {},
     "output_type": "execute_result"
    }
   ],
   "source": [
    "# private => 객체 내부에서만 호출할 수 있는 변수가 존재함!\n",
    "# 이건 기본 파이썬에선 안되는데, 만드는 방법이 존재함\n",
    "dir(zzsza)"
   ]
  },
  {
   "cell_type": "code",
   "execution_count": 29,
   "metadata": {
    "collapsed": true
   },
   "outputs": [],
   "source": [
    "# 클래스 내에서 변수 앞에 __를 붙이면 됨"
   ]
  },
  {
   "cell_type": "code",
   "execution_count": 30,
   "metadata": {
    "collapsed": true
   },
   "outputs": [],
   "source": [
    "class Student():\n",
    "    __campus = \"패스트 캠퍼스\" # 내부에서만 사용해야되겠다!\n",
    "    \n",
    "    def __init__(self, name, age) :  \n",
    "        self.name = name\n",
    "        self.age = age\n",
    "        print(\"학생 {name}({age})가 태어났습니다.\".format(\n",
    "            name = self.name,\n",
    "            age = self.age\n",
    "        ))\n",
    "    \n",
    "    def introduce(self): # self : 객체 자기 자신을 뜻함\n",
    "        print(\"안녕하세요, 저는 {campus}에 다니는 {age}살 {name}입니다.\".format(\n",
    "            campus = self.campus,\n",
    "            age=self.age,\n",
    "            name=self.name\n",
    "            ))"
   ]
  },
  {
   "cell_type": "code",
   "execution_count": null,
   "metadata": {
    "collapsed": true
   },
   "outputs": [],
   "source": []
  },
  {
   "cell_type": "code",
   "execution_count": null,
   "metadata": {
    "collapsed": true
   },
   "outputs": [],
   "source": []
  },
  {
   "cell_type": "code",
   "execution_count": null,
   "metadata": {
    "collapsed": true
   },
   "outputs": [],
   "source": []
  },
  {
   "cell_type": "code",
   "execution_count": 31,
   "metadata": {
    "collapsed": true
   },
   "outputs": [],
   "source": [
    "# 쉬운 예제로, 직사각형에 대한 예제"
   ]
  },
  {
   "cell_type": "code",
   "execution_count": 49,
   "metadata": {
    "collapsed": true
   },
   "outputs": [],
   "source": [
    "class Rectangle():\n",
    "\n",
    "    def __init__(self, width, height):\n",
    "        self.width = width\n",
    "        self.height = height\n",
    "    \n",
    "    \n",
    "    def area(self):\n",
    "        return self.width * self.height\n",
    "        \n",
    "    def girth(self):\n",
    "        return 2*(self.width+self.height)\n",
    "    \n",
    "    def is_bigger(self, another):\n",
    "        if self.area() - another.area() >= 0:\n",
    "            print(\"내가 더 큼\")\n",
    "        else:\n",
    "            print(\"내가 더 작음\")"
   ]
  },
  {
   "cell_type": "code",
   "execution_count": 40,
   "metadata": {
    "collapsed": false
   },
   "outputs": [],
   "source": [
    "a = Rectangle(2,3)"
   ]
  },
  {
   "cell_type": "code",
   "execution_count": 41,
   "metadata": {
    "collapsed": false
   },
   "outputs": [
    {
     "data": {
      "text/plain": [
       "6"
      ]
     },
     "execution_count": 41,
     "metadata": {},
     "output_type": "execute_result"
    }
   ],
   "source": [
    "a.area()"
   ]
  },
  {
   "cell_type": "code",
   "execution_count": 42,
   "metadata": {
    "collapsed": false
   },
   "outputs": [
    {
     "data": {
      "text/plain": [
       "10"
      ]
     },
     "execution_count": 42,
     "metadata": {},
     "output_type": "execute_result"
    }
   ],
   "source": [
    "a.girth()"
   ]
  },
  {
   "cell_type": "code",
   "execution_count": 50,
   "metadata": {
    "collapsed": false
   },
   "outputs": [
    {
     "name": "stdout",
     "output_type": "stream",
     "text": [
      "내가 더 작음\n"
     ]
    }
   ],
   "source": [
    "rec1 = Rectangle(10, 20)\n",
    "rec2 = Rectangle(20, 30)\n",
    "\n",
    "rec1.is_bigger(rec2)"
   ]
  },
  {
   "cell_type": "code",
   "execution_count": 51,
   "metadata": {
    "collapsed": true
   },
   "outputs": [],
   "source": [
    "# class ( rectangle ) => 명세; 붕어빵들, 이데아\n",
    "# 객체 (rec1, rec2 ) => 실제 있는 애, 붕어빵, ...\n",
    "\n"
   ]
  },
  {
   "cell_type": "code",
   "execution_count": 58,
   "metadata": {
    "collapsed": true
   },
   "outputs": [],
   "source": [
    "class Person():\n",
    "    \n",
    "    def __init__(self, name, money):\n",
    "        self.name = name\n",
    "        self.money = money\n",
    "        \n",
    "    def send_money(self, to, amount):\n",
    "        print(\"{to_name} 한테 {amount}원 만큼 돈을 보냅니다.\".format(\n",
    "            to_name = to.name,\n",
    "            amount = amount,\n",
    "        ))\n",
    "        self.money -= amount\n",
    "        to.money += amount\n",
    "        "
   ]
  },
  {
   "cell_type": "code",
   "execution_count": 59,
   "metadata": {
    "collapsed": false
   },
   "outputs": [],
   "source": [
    "person1 = Person(\"돈 빌려준 사람\", 1000)\n",
    "person2 = Person(\"돈 빌린 사람\", 500)"
   ]
  },
  {
   "cell_type": "code",
   "execution_count": 60,
   "metadata": {
    "collapsed": false
   },
   "outputs": [
    {
     "name": "stdout",
     "output_type": "stream",
     "text": [
      "돈 빌려준 사람 한테 500원 만큼 돈을 보냅니다.\n"
     ]
    }
   ],
   "source": [
    "person2.send_money(person1, 500)"
   ]
  },
  {
   "cell_type": "code",
   "execution_count": 61,
   "metadata": {
    "collapsed": false
   },
   "outputs": [
    {
     "data": {
      "text/plain": [
       "1500"
      ]
     },
     "execution_count": 61,
     "metadata": {},
     "output_type": "execute_result"
    }
   ],
   "source": [
    "person1.money"
   ]
  },
  {
   "cell_type": "code",
   "execution_count": 63,
   "metadata": {
    "collapsed": false
   },
   "outputs": [
    {
     "data": {
      "text/plain": [
       "0"
      ]
     },
     "execution_count": 63,
     "metadata": {},
     "output_type": "execute_result"
    }
   ],
   "source": [
    "person2.money"
   ]
  },
  {
   "cell_type": "code",
   "execution_count": 64,
   "metadata": {
    "collapsed": true
   },
   "outputs": [],
   "source": [
    "class Student():\n",
    "    \n",
    "    def __init__(self, name, address):\n",
    "        self.name = name\n",
    "        self.address = address\n",
    "        \n",
    "    def introduce(self):\n",
    "        print( \"저는 {address}에 살고 있는 {name}입니다.\".format(\n",
    "            address = self.address,\n",
    "            name = self.name\n",
    "        ))"
   ]
  },
  {
   "cell_type": "code",
   "execution_count": 66,
   "metadata": {
    "collapsed": false
   },
   "outputs": [
    {
     "name": "stdout",
     "output_type": "stream",
     "text": [
      "저는 인천에 살고 있는 변성윤입니다.\n"
     ]
    }
   ],
   "source": [
    "student = Student(\"변성윤\", \"인천\")\n",
    "student.introduce()"
   ]
  },
  {
   "cell_type": "code",
   "execution_count": 72,
   "metadata": {
    "collapsed": false
   },
   "outputs": [
    {
     "name": "stdout",
     "output_type": "stream",
     "text": [
      "저는  부산광역시 다인군 민영열구 7 943 339-902에 살고 있는 전은황입니다.\n",
      "저는  세종특별자치시 홍용세시 임한정거리 5943 7-9 (395-057)에 살고 있는 삼향입니다.\n"
     ]
    }
   ],
   "source": [
    "with open(\"./dss.csv\", \"r\", encoding=\"utf-8\") as f:\n",
    "    student_list = [\n",
    "        Student(\n",
    "            line.split(\",\")[0],\n",
    "            line.split(\",\")[1].replace(\"\\n\", \"\")\n",
    "        )\n",
    "        for line\n",
    "        in f.readlines()\n",
    "        \n",
    "    ]\n",
    "for student in student_list:\n",
    "    student.introduce()"
   ]
  },
  {
   "cell_type": "code",
   "execution_count": null,
   "metadata": {
    "collapsed": true
   },
   "outputs": [],
   "source": []
  }
 ],
 "metadata": {
  "kernelspec": {
   "display_name": "Python 3",
   "language": "python",
   "name": "python3"
  },
  "language_info": {
   "codemirror_mode": {
    "name": "ipython",
    "version": 3
   },
   "file_extension": ".py",
   "mimetype": "text/x-python",
   "name": "python",
   "nbconvert_exporter": "python",
   "pygments_lexer": "ipython3",
   "version": "3.5.1"
  }
 },
 "nbformat": 4,
 "nbformat_minor": 0
}
