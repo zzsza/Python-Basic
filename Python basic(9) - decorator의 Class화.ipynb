{
 "cells": [
  {
   "cell_type": "code",
   "execution_count": 1,
   "metadata": {
    "collapsed": true
   },
   "outputs": [],
   "source": [
    "import time"
   ]
  },
  {
   "cell_type": "code",
   "execution_count": 2,
   "metadata": {
    "collapsed": true
   },
   "outputs": [],
   "source": [
    "class Timer():\n",
    "    \n",
    "    def __init__(self, function):\n",
    "        self.function = function\n",
    "        \n",
    "    def __call__(self, *args, **kwargs): # __call__ => function decorator에서 wrapper와 동일\n",
    "        start_time = time.time()\n",
    "        result = self.function(*args, **kwargs)\n",
    "        end_time = time.time()\n",
    "        print(\"{time}s\".format(time=end_time-start_time))\n",
    "        return result"
   ]
  },
  {
   "cell_type": "code",
   "execution_count": 3,
   "metadata": {
    "collapsed": true
   },
   "outputs": [],
   "source": [
    "@Timer\n",
    "def print_hello(name):\n",
    "    print(\"heelo,\" + name)\n",
    "    \n",
    "# print_hello == Timer(print_hello)\n",
    "# print_hello() == Timer(print_hello)()\n",
    "\n",
    "# class => callable => __call__(self..)"
   ]
  },
  {
   "cell_type": "code",
   "execution_count": 4,
   "metadata": {
    "collapsed": false
   },
   "outputs": [
    {
     "name": "stdout",
     "output_type": "stream",
     "text": [
      "heelo,zzsza\n",
      "0.0s\n"
     ]
    }
   ],
   "source": [
    "print_hello(\"zzsza\")"
   ]
  },
  {
   "cell_type": "code",
   "execution_count": 23,
   "metadata": {
    "collapsed": true
   },
   "outputs": [],
   "source": [
    "def print_name_and_age(**kwargs):\n",
    "    if kwargs.get(\"name\"):\n",
    "        print(\"name => {name}\".format(name=kwargs.get(\"name\")))\n",
    "        \n",
    "    if kwargs.get(\"age\"):\n",
    "        print(\"나이도 입력받았습니다\")"
   ]
  },
  {
   "cell_type": "code",
   "execution_count": 25,
   "metadata": {
    "collapsed": false
   },
   "outputs": [
    {
     "name": "stdout",
     "output_type": "stream",
     "text": [
      "name => zzsza\n",
      "나이도 입력받았습니다\n"
     ]
    }
   ],
   "source": [
    "print_name_and_age(name=\"zzsza\", age=2)"
   ]
  },
  {
   "cell_type": "code",
   "execution_count": 27,
   "metadata": {
    "collapsed": true
   },
   "outputs": [],
   "source": [
    "class Tagify():\n",
    "    def __init(self, function):\n",
    "        self.function = function\n",
    "        \n",
    "    def __call__(self, *args, **kwargs):\n",
    "#         boldify = \"<b>\" + self.function(*args, **kwargs) + \"</b>\"\n",
    "#         italicfy = \"<i>\" + boldify + \"</i>\"\n",
    "#         return italicfy\n",
    "        paragraphify = self.tagify(\"p\", self.function(*args, **kwargs))\n",
    "        boldify = self.tagify(\"b\", paragraphify)\n",
    "        italicfy = self.tagify(\"i\", boldify)\n",
    "        return italicfy\n",
    "        \n",
    "    def tagify(self, tag, text):\n",
    "        return \"<{tag}>{text}</{tag}\".format(tag=tag, text=text)"
   ]
  },
  {
   "cell_type": "code",
   "execution_count": null,
   "metadata": {
    "collapsed": true
   },
   "outputs": [],
   "source": []
  },
  {
   "cell_type": "code",
   "execution_count": null,
   "metadata": {
    "collapsed": true
   },
   "outputs": [],
   "source": []
  },
  {
   "cell_type": "markdown",
   "metadata": {},
   "source": [
    "# 실전 decorator"
   ]
  },
  {
   "cell_type": "code",
   "execution_count": 28,
   "metadata": {
    "collapsed": true
   },
   "outputs": [],
   "source": [
    "class FastcampusPerson(): # 패스트캠퍼스에 있는 사람 한명 한명\n",
    "    \n",
    "    # 학생과 매니저가 구분될 수 있어야 합니다\n",
    "    \n",
    "    pass"
   ]
  },
  {
   "cell_type": "code",
   "execution_count": null,
   "metadata": {
    "collapsed": true
   },
   "outputs": [],
   "source": [
    "class FastcampusSchool(): #패스트캠퍼스 스쿨 관리 클래스\n",
    "    \n",
    "    def __init__(self):\n",
    "        student_list = []\n",
    "    \n",
    "    def add_student(self, manager, student): # manager => FastcampusPerson object\n",
    "                                            # student => FastcampusPerson object\n",
    "        # student_list에 학생이 추가된다.\n",
    "        # ___매니저가 _____ 학생을 추가했습니다. 라고 메시지 출력\n",
    "        \n",
    "        # 단, 학생이 학생을 추가하면 에러가 발생해야 함\n",
    "        \n",
    "    def show_students(self, manager):\n",
    "        \n",
    "        # \"____매니저가 학생들을 조회했습니다.\"라고 메시지 출력\n",
    "        # 단 학생이 학생 정보를 출력하려고 하면 에러가 발생해야 합니다\n",
    "        \n",
    "    def show_revenue(self, manager):\n",
    "        \n",
    "        # 전체 매출을 구하는 애 (학생 수 * 360)\n",
    "        # 학생이 전체 매출을 구하려고 하면, 에러가 발생해야 합니다"
   ]
  }
 ],
 "metadata": {
  "kernelspec": {
   "display_name": "Python 3",
   "language": "python",
   "name": "python3"
  },
  "language_info": {
   "codemirror_mode": {
    "name": "ipython",
    "version": 3
   },
   "file_extension": ".py",
   "mimetype": "text/x-python",
   "name": "python",
   "nbconvert_exporter": "python",
   "pygments_lexer": "ipython3",
   "version": "3.5.1"
  }
 },
 "nbformat": 4,
 "nbformat_minor": 0
}
