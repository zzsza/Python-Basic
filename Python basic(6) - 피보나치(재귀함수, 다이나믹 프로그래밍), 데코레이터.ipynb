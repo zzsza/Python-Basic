{
 "cells": [
  {
   "cell_type": "code",
   "execution_count": 1,
   "metadata": {
    "collapsed": true
   },
   "outputs": [],
   "source": [
    "# 피보나치함수 만들기"
   ]
  },
  {
   "cell_type": "code",
   "execution_count": 6,
   "metadata": {
    "collapsed": true
   },
   "outputs": [],
   "source": [
    "def fibonacci(n):\n",
    "    # 현재 값(i), 이전의 피보나치값(i-1) => i + 1\n",
    "    \n",
    "    prev_n = 0\n",
    "    cur_n = 1\n",
    "    i=1\n",
    "    \n",
    "    while i< n:\n",
    "        temp_n = cur_n\n",
    "        cur_n = cur_n + prev_n\n",
    "        prev_n = temp_n\n",
    "        i += 1\n",
    "    return cur_n"
   ]
  },
  {
   "cell_type": "code",
   "execution_count": 9,
   "metadata": {
    "collapsed": false
   },
   "outputs": [
    {
     "data": {
      "text/plain": [
       "21"
      ]
     },
     "execution_count": 9,
     "metadata": {},
     "output_type": "execute_result"
    }
   ],
   "source": [
    "fibonacci(8)"
   ]
  },
  {
   "cell_type": "code",
   "execution_count": 10,
   "metadata": {
    "collapsed": true
   },
   "outputs": [],
   "source": [
    "# 튜플을 이용해 쉽게 바꿀 수 있음!!!\n",
    "def fibonacci(n):\n",
    "    prev_n, cur_n = (0, 1) # 사실 괄호를 안해줘도 튜플로 인식함\n",
    "    i=1\n",
    "    \n",
    "    while i< n:\n",
    "        cur_n, prev_n = cur_n + prev_n, cur_n\n",
    "        i += 1\n",
    "    return cur_n\n",
    "\n",
    "# temp_n이 필요없이 관계가 있는 2개의 값을 바꿀 수 있음"
   ]
  },
  {
   "cell_type": "code",
   "execution_count": 11,
   "metadata": {
    "collapsed": false
   },
   "outputs": [
    {
     "data": {
      "text/plain": [
       "8"
      ]
     },
     "execution_count": 11,
     "metadata": {},
     "output_type": "execute_result"
    }
   ],
   "source": [
    "fibonacci(6)"
   ]
  },
  {
   "cell_type": "code",
   "execution_count": 12,
   "metadata": {
    "collapsed": true
   },
   "outputs": [],
   "source": [
    "# 재귀함수\n",
    "# f(n) = f(n-1) + f(n-2)\n",
    "# 자기 자신을 통해 자기 자신이 구현되는 형태\n"
   ]
  },
  {
   "cell_type": "code",
   "execution_count": null,
   "metadata": {
    "collapsed": true
   },
   "outputs": [],
   "source": []
  },
  {
   "cell_type": "code",
   "execution_count": 13,
   "metadata": {
    "collapsed": true
   },
   "outputs": [],
   "source": [
    "def fibonacci_re(x):\n",
    "    if x <= 0:\n",
    "        return 0\n",
    "    if x == 1:\n",
    "        return 1\n",
    "    return fibonacci_re(x-1) + fibonacci_re(x-2)"
   ]
  },
  {
   "cell_type": "code",
   "execution_count": 15,
   "metadata": {
    "collapsed": false
   },
   "outputs": [
    {
     "data": {
      "text/plain": [
       "5"
      ]
     },
     "execution_count": 15,
     "metadata": {},
     "output_type": "execute_result"
    }
   ],
   "source": [
    "fibonacci_re(5)"
   ]
  },
  {
   "cell_type": "code",
   "execution_count": null,
   "metadata": {
    "collapsed": true
   },
   "outputs": [],
   "source": []
  },
  {
   "cell_type": "code",
   "execution_count": 17,
   "metadata": {
    "collapsed": true
   },
   "outputs": [],
   "source": [
    "# 다이나믹 프로그래밍 : 분할정복법을 사용해 해보자\n",
    "# 5 => 4 => 3, 2 + 3\n",
    "# 나와있는 값을 메모장같은 곳에 두고 사용하는 느낌"
   ]
  },
  {
   "cell_type": "code",
   "execution_count": 33,
   "metadata": {
    "collapsed": true
   },
   "outputs": [],
   "source": [
    "memo = [0, 1] # 빈 리스트"
   ]
  },
  {
   "cell_type": "code",
   "execution_count": 45,
   "metadata": {
    "collapsed": true
   },
   "outputs": [],
   "source": [
    "#  1  2  3  4  5  6   7  8   9..... 메모의 길이\n",
    "# [0, 1, 2, 3, 4, 5, 6,  7,  8 ....]\n",
    "# [0, 1, 1, 2, 3, 5, 8, 13, 21 ....] 피보나치 수열의 결과값\n",
    "\n",
    "def fibonacci_dp(x):\n",
    "    if x <= 0:\n",
    "        return 0\n",
    "    if x <= 1:\n",
    "        return 1\n",
    "    if len(memo)-1 >= x:\n",
    "        return memo[x]\n",
    "    if len(memo)-1 < x:\n",
    "        new_number = fibonacci_dp(x-1) + fibonacci_dp(x-2)\n",
    "        memo.append(new_number)\n",
    "        return new_number\n",
    "        "
   ]
  },
  {
   "cell_type": "code",
   "execution_count": 46,
   "metadata": {
    "collapsed": false,
    "scrolled": true
   },
   "outputs": [
    {
     "data": {
      "text/plain": [
       "8"
      ]
     },
     "execution_count": 46,
     "metadata": {},
     "output_type": "execute_result"
    }
   ],
   "source": [
    "fibonacci_dp(7)"
   ]
  },
  {
   "cell_type": "code",
   "execution_count": 47,
   "metadata": {
    "collapsed": true
   },
   "outputs": [],
   "source": [
    "# 1,2,3 의 시간을 측정"
   ]
  },
  {
   "cell_type": "code",
   "execution_count": 55,
   "metadata": {
    "collapsed": false
   },
   "outputs": [
    {
     "name": "stdout",
     "output_type": "stream",
     "text": [
      "[1, 1, 1, 2, 3, 5, 8, 13, 21, 34, 55, 89, 144, 233, 377, 610, 987, 1597, 2584, 4181]\n",
      "Wall time: 500 µs\n"
     ]
    }
   ],
   "source": [
    "%%time\n",
    "print([fibonacci(i) for i in range(20)])"
   ]
  },
  {
   "cell_type": "code",
   "execution_count": 56,
   "metadata": {
    "collapsed": false
   },
   "outputs": [
    {
     "name": "stdout",
     "output_type": "stream",
     "text": [
      "[0, 1, 1, 2, 3, 5, 8, 13, 21, 34, 55, 89, 144, 233, 377, 610, 987, 1597, 2584, 4181]\n",
      "Wall time: 56.5 ms\n"
     ]
    }
   ],
   "source": [
    "%%time\n",
    "print([fibonacci_re(i) for i in range(20)])"
   ]
  },
  {
   "cell_type": "code",
   "execution_count": 59,
   "metadata": {
    "collapsed": false
   },
   "outputs": [
    {
     "name": "stdout",
     "output_type": "stream",
     "text": [
      "[0, 1, 1, 1, 2, 3, 5, 8, 13, 21, 34, 55, 89, 144, 233, 377, 610, 987, 1597, 2584]\n",
      "Wall time: 0 ns\n"
     ]
    }
   ],
   "source": [
    "%%time\n",
    "print([fibonacci_dp(i) for i in range(20)])"
   ]
  },
  {
   "cell_type": "code",
   "execution_count": 60,
   "metadata": {
    "collapsed": true
   },
   "outputs": [],
   "source": [
    "import time"
   ]
  },
  {
   "cell_type": "code",
   "execution_count": 65,
   "metadata": {
    "collapsed": true
   },
   "outputs": [],
   "source": [
    "def get_timer(function, n):\n",
    "    start_time = time.time()\n",
    "    function(n)\n",
    "    end_time = time.time()\n",
    "    return end_time - start_time"
   ]
  },
  {
   "cell_type": "code",
   "execution_count": 72,
   "metadata": {
    "collapsed": false
   },
   "outputs": [
    {
     "data": {
      "text/plain": [
       "0.010007143020629883"
      ]
     },
     "execution_count": 72,
     "metadata": {},
     "output_type": "execute_result"
    }
   ],
   "source": [
    "get_timer(fibonacci_dp, 1000)"
   ]
  },
  {
   "cell_type": "code",
   "execution_count": 73,
   "metadata": {
    "collapsed": true
   },
   "outputs": [],
   "source": [
    "# 피보나치를 실행하면서 동시에 timer가 실행되면 좋겠다.\n",
    "# 데코레이터! "
   ]
  },
  {
   "cell_type": "code",
   "execution_count": 77,
   "metadata": {
    "collapsed": true
   },
   "outputs": [],
   "source": [
    "# 함수를 입력받아 => 새로운 함수를 리턴하는 함수\n",
    "def get_timer(function):\n",
    "    def wrapper(*args, **kwargs):\n",
    "        start_time = time.time()\n",
    "        result = function(*args, **kwargs)\n",
    "        end_time = time.time()\n",
    "        print(\"{time}s 걸렸습니다.\".format(time=end_time-start_time))\n",
    "        return result\n",
    "    return wrapper"
   ]
  },
  {
   "cell_type": "code",
   "execution_count": 78,
   "metadata": {
    "collapsed": true
   },
   "outputs": [],
   "source": [
    "@get_timer\n",
    "def fibonacci_dp(x):\n",
    "    if x <= 0:\n",
    "        return 0\n",
    "    if x <= 1:\n",
    "        return 1\n",
    "    if len(memo)-1 >= x:\n",
    "        return memo[x]\n",
    "    if len(memo)-1 < x:\n",
    "        new_number = fibonacci_dp(x-1) + fibonacci_dp(x-2)\n",
    "        memo.append(new_number)\n",
    "        return new_number\n",
    "# 함수를 만들 때 맨 위에 저렇게 만들면 데코레이터가 생김"
   ]
  },
  {
   "cell_type": "code",
   "execution_count": 79,
   "metadata": {
    "collapsed": false
   },
   "outputs": [
    {
     "name": "stdout",
     "output_type": "stream",
     "text": [
      "0.0s 걸렸습니다.\n"
     ]
    },
    {
     "data": {
      "text/plain": [
       "4181"
      ]
     },
     "execution_count": 79,
     "metadata": {},
     "output_type": "execute_result"
    }
   ],
   "source": [
    "fibonacci_dp(20)"
   ]
  },
  {
   "cell_type": "code",
   "execution_count": 80,
   "metadata": {
    "collapsed": true
   },
   "outputs": [],
   "source": [
    "# @send_sms 로 메세지 오게 하면 개꿀\n",
    "# 여러가지 데코레이터를 사용할 수 있음!!"
   ]
  },
  {
   "cell_type": "code",
   "execution_count": 81,
   "metadata": {
    "collapsed": true
   },
   "outputs": [],
   "source": [
    "# get_timer / 분산처리 데코레이터 / send_slack / send_email .."
   ]
  },
  {
   "cell_type": "code",
   "execution_count": null,
   "metadata": {
    "collapsed": true
   },
   "outputs": [],
   "source": []
  }
 ],
 "metadata": {
  "kernelspec": {
   "display_name": "Python 3",
   "language": "python",
   "name": "python3"
  },
  "language_info": {
   "codemirror_mode": {
    "name": "ipython",
    "version": 3
   },
   "file_extension": ".py",
   "mimetype": "text/x-python",
   "name": "python",
   "nbconvert_exporter": "python",
   "pygments_lexer": "ipython3",
   "version": "3.5.1"
  }
 },
 "nbformat": 4,
 "nbformat_minor": 0
}
