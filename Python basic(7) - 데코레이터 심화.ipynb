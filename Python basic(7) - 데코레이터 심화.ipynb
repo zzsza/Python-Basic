{
 "cells": [
  {
   "cell_type": "markdown",
   "metadata": {
    "collapsed": true
   },
   "source": [
    "# 데코레이터 심화"
   ]
  },
  {
   "cell_type": "code",
   "execution_count": 82,
   "metadata": {
    "collapsed": true
   },
   "outputs": [],
   "source": [
    "@fridge\n",
    "def put_fridge(food):\n",
    "    print(\"{food}를 냉장고에 넣는다.\".format(food=food))"
   ]
  },
  {
   "cell_type": "code",
   "execution_count": 2,
   "metadata": {
    "collapsed": true
   },
   "outputs": [],
   "source": [
    "def fridge(function):\n",
    "    def wrapper(*args, **kwargs):\n",
    "        print(\"냉장고를 연다.\")\n",
    "        function(*args, **kwargs)\n",
    "        print(\"냉장고를 닫는다.\")\n",
    "    return wrapper"
   ]
  },
  {
   "cell_type": "code",
   "execution_count": 4,
   "metadata": {
    "collapsed": false
   },
   "outputs": [
    {
     "name": "stdout",
     "output_type": "stream",
     "text": [
      "냉장고를 연다.\n",
      "바나나를 냉장고에 넣는다.\n",
      "냉장고를 닫는다.\n"
     ]
    }
   ],
   "source": [
    "put_fridge(\"바나나\")"
   ]
  },
  {
   "cell_type": "code",
   "execution_count": 6,
   "metadata": {
    "collapsed": true
   },
   "outputs": [],
   "source": [
    "# before_execute => ___함수를 시작합니다\n",
    "# after_execute => ___함수를 종료합니다\n",
    "# timer => ___s초 걸렸습니다\n",
    "\n",
    "#  something(...) 하면\n",
    "#  실행합니다\n",
    "#  ...\n",
    "#  종료합니다\n",
    "#  함수를 실행하는데 s 걸렸습니다\n",
    "\n",
    "# 이 순서로 나오게 코딩해보세요"
   ]
  },
  {
   "cell_type": "code",
   "execution_count": 17,
   "metadata": {
    "collapsed": true
   },
   "outputs": [],
   "source": [
    "import time"
   ]
  },
  {
   "cell_type": "code",
   "execution_count": 26,
   "metadata": {
    "collapsed": true
   },
   "outputs": [],
   "source": [
    "def before_execute(function):\n",
    "    def wrapper(*args, **kwargs):\n",
    "        print(\"@before_execute\")\n",
    "        print(\"{function} 함수를 시작합니다.\".format(function=function))\n",
    "        function(*args, **kwargs)\n",
    "    return wrapper"
   ]
  },
  {
   "cell_type": "code",
   "execution_count": 27,
   "metadata": {
    "collapsed": true
   },
   "outputs": [],
   "source": [
    "def after_execute(function):\n",
    "    def wrapper(*args, **kwargs):\n",
    "        print(\"@after_execute\")\n",
    "        result = function(*args, **kwargs)\n",
    "        print(\"{function} 함수를 종료합니다.\".format(function=function))\n",
    "        return result # 여기서 리턴해야 실행이 됨\n",
    "    return wrapper"
   ]
  },
  {
   "cell_type": "code",
   "execution_count": 31,
   "metadata": {
    "collapsed": true
   },
   "outputs": [],
   "source": [
    "def timer(function):\n",
    "    def wrapper(*args, **kwargs):\n",
    "        start_time = time.time()\n",
    "        result = function(*args, **kwargs)\n",
    "        end_time = time.time()\n",
    "        print(\"{time}s 걸렸습니다.\".format(time=end_time-start_time))\n",
    "        return result\n",
    "    return wrapper"
   ]
  },
  {
   "cell_type": "code",
   "execution_count": 34,
   "metadata": {
    "collapsed": true
   },
   "outputs": [],
   "source": [
    "@before_execute\n",
    "@after_execute\n",
    "@timer\n",
    "def something(x):\n",
    "    return x"
   ]
  },
  {
   "cell_type": "code",
   "execution_count": 35,
   "metadata": {
    "collapsed": false
   },
   "outputs": [
    {
     "name": "stdout",
     "output_type": "stream",
     "text": [
      "@before_execute\n",
      "<function after_execute.<locals>.wrapper at 0x0000022FF4709F28> 함수를 시작합니다.\n",
      "@after_execute\n",
      "0.0s 걸렸습니다.\n",
      "<function timer.<locals>.wrapper at 0x0000022FF4709BF8> 함수를 종료합니다.\n"
     ]
    }
   ],
   "source": [
    "something(1)"
   ]
  },
  {
   "cell_type": "code",
   "execution_count": 36,
   "metadata": {
    "collapsed": true
   },
   "outputs": [],
   "source": [
    "# 데코레이터는 밑에서부터 한차례 한차례 맵핑된다고 생각하면 됨"
   ]
  },
  {
   "cell_type": "code",
   "execution_count": 64,
   "metadata": {
    "collapsed": true
   },
   "outputs": [],
   "source": [
    "@bold\n",
    "@italic\n",
    "def introduce(name, course):\n",
    "    return \"안녕하세요. 저는 {name}입니다. {course}에서 공부하고 있습니다.\".format(\n",
    "        name=name, course=course\n",
    "    )"
   ]
  },
  {
   "cell_type": "code",
   "execution_count": 65,
   "metadata": {
    "collapsed": true
   },
   "outputs": [],
   "source": [
    "# 웹프스라면 태그(<p>)로 묶어주는 데코레이터를 많이 만들곤 함\n",
    "# + 이탤릭체, 볼드체 \n",
    "# 데사스라면 핸드폰 번호를 자동으로 전처리 해주는 그런 것\n"
   ]
  },
  {
   "cell_type": "code",
   "execution_count": 66,
   "metadata": {
    "collapsed": true
   },
   "outputs": [],
   "source": [
    "# @bold\n",
    "# @italic => <b><i> .. </i></b>"
   ]
  },
  {
   "cell_type": "code",
   "execution_count": 67,
   "metadata": {
    "collapsed": false
   },
   "outputs": [],
   "source": [
    "def bold(funtion):\n",
    "    def wrapper(*args, **kwargs):\n",
    "        return \"<b>{text}</b>\".format(\n",
    "            text=funtion(*args, **kwargs))\n",
    "    return wrapper"
   ]
  },
  {
   "cell_type": "code",
   "execution_count": 68,
   "metadata": {
    "collapsed": true
   },
   "outputs": [],
   "source": [
    "def italic(funtion):\n",
    "    def wrapper(*args, **kwargs):\n",
    "        return \"<i>{text}</i>\".format(\n",
    "            text=funtion(*args, **kwargs))\n",
    "    return wrapper"
   ]
  },
  {
   "cell_type": "code",
   "execution_count": 69,
   "metadata": {
    "collapsed": false
   },
   "outputs": [
    {
     "data": {
      "text/plain": [
       "'<b><i>안녕하세요. 저는 변성윤입니다. 데사스에서 공부하고 있습니다.</i></b>'"
      ]
     },
     "execution_count": 69,
     "metadata": {},
     "output_type": "execute_result"
    }
   ],
   "source": [
    "introduce(\"변성윤\", \"데사스\")"
   ]
  },
  {
   "cell_type": "code",
   "execution_count": 79,
   "metadata": {
    "collapsed": true
   },
   "outputs": [],
   "source": [
    "def prettify(function):\n",
    "    def wrapper(*args, **kwargs):\n",
    "        result = function(*args, **kwargs)\n",
    "        return result.replace(\"일\", \"1\").replace(\"이\", \"2\")\n",
    "    return wrapper\n",
    "# 지금은 replace지만 나중에 for문을 돌릴 것!!"
   ]
  },
  {
   "cell_type": "code",
   "execution_count": 80,
   "metadata": {
    "collapsed": true
   },
   "outputs": [],
   "source": [
    "@prettify\n",
    "def crawl_phonenumber(naver_cafe_name, naver_cafe_post_id):\n",
    "    # 어떤 식으로 크롤링이 되어서\n",
    "    return \"010-2221-일일일일\""
   ]
  },
  {
   "cell_type": "code",
   "execution_count": 81,
   "metadata": {
    "collapsed": false
   },
   "outputs": [
    {
     "data": {
      "text/plain": [
       "'010-2221-1111'"
      ]
     },
     "execution_count": 81,
     "metadata": {},
     "output_type": "execute_result"
    }
   ],
   "source": [
    "crawl_phonenumber(\"중고나라\",\"35678\")"
   ]
  },
  {
   "cell_type": "markdown",
   "metadata": {
    "collapsed": true
   },
   "source": [
    "# Decorator - function, class화\n"
   ]
  },
  {
   "cell_type": "code",
   "execution_count": 1,
   "metadata": {
    "collapsed": true
   },
   "outputs": [],
   "source": [
    "# 장점 : decorator도 의미있느 데이터와 메쏘들로 묶을 수 있다 (모듈화)"
   ]
  },
  {
   "cell_type": "code",
   "execution_count": 22,
   "metadata": {
    "collapsed": true
   },
   "outputs": [],
   "source": [
    "import time\n",
    "\n",
    "def timer(function): # packing => 함수 정의부\n",
    "    def wrapper(*args, **kwargs):\n",
    "        print(args)\n",
    "        print(kwargs)\n",
    "        start_time = time.time()\n",
    "        result = function(*args, **kwargs) # unpacking => tupler -> .. / dict -> key, value\n",
    "        end_time = time.time()             # 함수 호출부\n",
    "        print(\"{time}s 걸렸습니다.\".format(time=end_time-start_time))\n",
    "        return result\n",
    "    return wrapper"
   ]
  },
  {
   "cell_type": "code",
   "execution_count": 7,
   "metadata": {
    "collapsed": true
   },
   "outputs": [],
   "source": [
    "@timer\n",
    "def print_hello():\n",
    "    print(\"hello world\")"
   ]
  },
  {
   "cell_type": "code",
   "execution_count": 8,
   "metadata": {
    "collapsed": false
   },
   "outputs": [
    {
     "name": "stdout",
     "output_type": "stream",
     "text": [
      "hello world\n",
      "0.0s 걸렸습니다.\n"
     ]
    }
   ],
   "source": [
    "print_hello() #print_hello라는 이름이지만 timer => wrapper function이 실행"
   ]
  },
  {
   "cell_type": "code",
   "execution_count": 10,
   "metadata": {
    "collapsed": true
   },
   "outputs": [],
   "source": [
    "def print_goodbye():\n",
    "    print(\"goot bye\")\n",
    "    \n",
    "print_goodbye = timer(print_goodbye)"
   ]
  },
  {
   "cell_type": "code",
   "execution_count": 12,
   "metadata": {
    "collapsed": false
   },
   "outputs": [
    {
     "name": "stdout",
     "output_type": "stream",
     "text": [
      "goot bye\n",
      "0.0s 걸렸습니다.\n"
     ]
    }
   ],
   "source": [
    "print_goodbye() # 위 아래가 같다는 것을 알아두길!"
   ]
  },
  {
   "cell_type": "code",
   "execution_count": 15,
   "metadata": {
    "collapsed": true
   },
   "outputs": [],
   "source": [
    "# args, kwargs\n",
    "def hello_items(**kwargs): # 함수를 정의하는 시점에 사용되는 kwargs ( **kwargs ) => packing\n",
    "    for key, value in kwargs.items():\n",
    "        print(\"{key} => {value}\".format(key=key, value=value))"
   ]
  },
  {
   "cell_type": "code",
   "execution_count": 16,
   "metadata": {
    "collapsed": false
   },
   "outputs": [
    {
     "name": "stdout",
     "output_type": "stream",
     "text": [
      "age => 24\n",
      "name => zzsza\n"
     ]
    }
   ],
   "source": [
    "hello_items(name=\"zzsza\",age=24)"
   ]
  },
  {
   "cell_type": "code",
   "execution_count": 21,
   "metadata": {
    "collapsed": false
   },
   "outputs": [
    {
     "name": "stdout",
     "output_type": "stream",
     "text": [
      "name => zzsza\n",
      "age => 24\n"
     ]
    }
   ],
   "source": [
    "information = {\"name\":\"zzsza\",\"age\":24}\n",
    "hello_items(**information) # dict => key, value로 나눠줌 => unpacking\n",
    "# 함수를 호출하는 시점에 사용하는 kwargs ( **kwargs )"
   ]
  },
  {
   "cell_type": "code",
   "execution_count": 23,
   "metadata": {
    "collapsed": false
   },
   "outputs": [],
   "source": [
    "@timer\n",
    "def print_student_info(name, course, age):\n",
    "    pass"
   ]
  },
  {
   "cell_type": "code",
   "execution_count": 24,
   "metadata": {
    "collapsed": false
   },
   "outputs": [
    {
     "name": "stdout",
     "output_type": "stream",
     "text": [
      "('zzsza', 'dss', 27)\n",
      "{}\n",
      "0.0s 걸렸습니다.\n"
     ]
    }
   ],
   "source": [
    "print_student_info(\"zzsza\",\"dss\",27) # args로 패킹되서 튜플로 들어가있음"
   ]
  },
  {
   "cell_type": "code",
   "execution_count": 25,
   "metadata": {
    "collapsed": true
   },
   "outputs": [],
   "source": [
    "def hello():\n",
    "    print(\"hello world\")"
   ]
  },
  {
   "cell_type": "code",
   "execution_count": 26,
   "metadata": {
    "collapsed": true
   },
   "outputs": [],
   "source": [
    "def execute_three_times(function):\n",
    "    for i in range(3):\n",
    "        function()"
   ]
  },
  {
   "cell_type": "code",
   "execution_count": 29,
   "metadata": {
    "collapsed": false
   },
   "outputs": [
    {
     "name": "stdout",
     "output_type": "stream",
     "text": [
      "hello world\n",
      "hello world\n",
      "hello world\n"
     ]
    }
   ],
   "source": [
    "execute_three_times(hello)"
   ]
  },
  {
   "cell_type": "code",
   "execution_count": 30,
   "metadata": {
    "collapsed": true
   },
   "outputs": [],
   "source": [
    "# bold, italic 구현"
   ]
  },
  {
   "cell_type": "code",
   "execution_count": 33,
   "metadata": {
    "collapsed": false
   },
   "outputs": [],
   "source": [
    "def bold(funtion):\n",
    "    def wrapper(*args, **kwargs):\n",
    "        return \"<b>\" + funtion(*args, **kwargs) + \"</b>\"\n",
    "    return wrapper\n",
    "\n",
    "def italic(function):\n",
    "    def wrapper(*args, **kwargs):\n",
    "        return \"<i>{text}</i>\".format(\n",
    "            text=function(*args, **kwargs))\n",
    "    return wrapper"
   ]
  },
  {
   "cell_type": "code",
   "execution_count": 34,
   "metadata": {
    "collapsed": true
   },
   "outputs": [],
   "source": [
    "@bold\n",
    "@italic\n",
    "def return_hello():\n",
    "    return \"hello world\"\n",
    "\n",
    "def return_goodbye():\n",
    "    return \"good bye\"\n",
    "\n",
    "return_goodbye = bold(italic(return_goodbye)) # decorator의 실제 기능"
   ]
  },
  {
   "cell_type": "code",
   "execution_count": 35,
   "metadata": {
    "collapsed": false
   },
   "outputs": [
    {
     "data": {
      "text/plain": [
       "'<b><i>hello world</i></b>'"
      ]
     },
     "execution_count": 35,
     "metadata": {},
     "output_type": "execute_result"
    }
   ],
   "source": [
    "return_hello()"
   ]
  },
  {
   "cell_type": "code",
   "execution_count": 38,
   "metadata": {
    "collapsed": false
   },
   "outputs": [
    {
     "data": {
      "text/plain": [
       "'<b><i>good bye</i></b>'"
      ]
     },
     "execution_count": 38,
     "metadata": {},
     "output_type": "execute_result"
    }
   ],
   "source": [
    "return_goodbye()"
   ]
  },
  {
   "cell_type": "code",
   "execution_count": 39,
   "metadata": {
    "collapsed": true
   },
   "outputs": [],
   "source": [
    "def return_double_function():\n",
    "    def double(x):\n",
    "        return x * 2\n",
    "    return double"
   ]
  },
  {
   "cell_type": "code",
   "execution_count": 41,
   "metadata": {
    "collapsed": false
   },
   "outputs": [
    {
     "data": {
      "text/plain": [
       "6"
      ]
     },
     "execution_count": 41,
     "metadata": {},
     "output_type": "execute_result"
    }
   ],
   "source": [
    "return_double_function()(3)"
   ]
  },
  {
   "cell_type": "code",
   "execution_count": 42,
   "metadata": {
    "collapsed": true
   },
   "outputs": [],
   "source": [
    "def return_multiply_function(n):\n",
    "    def multiply(x):\n",
    "        return x * n\n",
    "    return multiply"
   ]
  },
  {
   "cell_type": "code",
   "execution_count": 43,
   "metadata": {
    "collapsed": true
   },
   "outputs": [],
   "source": [
    "double = return_multiply_function(2)\n",
    "triple = return_multiply_function(3)"
   ]
  },
  {
   "cell_type": "code",
   "execution_count": 44,
   "metadata": {
    "collapsed": false
   },
   "outputs": [
    {
     "data": {
      "text/plain": [
       "4"
      ]
     },
     "execution_count": 44,
     "metadata": {},
     "output_type": "execute_result"
    }
   ],
   "source": [
    "double(2)"
   ]
  },
  {
   "cell_type": "code",
   "execution_count": 45,
   "metadata": {
    "collapsed": false
   },
   "outputs": [
    {
     "data": {
      "text/plain": [
       "12"
      ]
     },
     "execution_count": 45,
     "metadata": {},
     "output_type": "execute_result"
    }
   ],
   "source": [
    "triple(4)"
   ]
  },
  {
   "cell_type": "code",
   "execution_count": 46,
   "metadata": {
    "collapsed": true
   },
   "outputs": [],
   "source": [
    "# 함수를 위한 함수"
   ]
  },
  {
   "cell_type": "markdown",
   "metadata": {},
   "source": [
    "## class decorator"
   ]
  },
  {
   "cell_type": "code",
   "execution_count": 47,
   "metadata": {
    "collapsed": true
   },
   "outputs": [],
   "source": [
    "class Timer():\n",
    "    \n",
    "    def __init__(self, function):\n",
    "        self.function = function"
   ]
  },
  {
   "cell_type": "code",
   "execution_count": 50,
   "metadata": {
    "collapsed": false
   },
   "outputs": [
    {
     "ename": "TypeError",
     "evalue": "'Timer' object is not callable",
     "output_type": "error",
     "traceback": [
      "\u001b[1;31m---------------------------------------------------------------------------\u001b[0m",
      "\u001b[1;31mTypeError\u001b[0m                                 Traceback (most recent call last)",
      "\u001b[1;32m<ipython-input-50-6cd9f9f456ef>\u001b[0m in \u001b[0;36m<module>\u001b[1;34m()\u001b[0m\n\u001b[0;32m      4\u001b[0m \u001b[1;33m\u001b[0m\u001b[0m\n\u001b[0;32m      5\u001b[0m \u001b[1;31m# print_hello = Timer(print_hello) # timer class로 만들어진 timer object\u001b[0m\u001b[1;33m\u001b[0m\u001b[1;33m\u001b[0m\u001b[0m\n\u001b[1;32m----> 6\u001b[1;33m \u001b[0mprint_hello\u001b[0m\u001b[1;33m(\u001b[0m\u001b[1;33m)\u001b[0m\u001b[1;33m\u001b[0m\u001b[0m\n\u001b[0m",
      "\u001b[1;31mTypeError\u001b[0m: 'Timer' object is not callable"
     ]
    }
   ],
   "source": [
    "@Timer\n",
    "def print_hello():\n",
    "    print(\"hello world\")\n",
    "    \n",
    "# print_hello = Timer(print_hello) # timer class로 만들어진 timer object\n",
    "print_hello()"
   ]
  },
  {
   "cell_type": "code",
   "execution_count": 51,
   "metadata": {
    "collapsed": true
   },
   "outputs": [],
   "source": [
    "class Student():\n",
    "    \n",
    "    def __init__(self, name):\n",
    "        self.name = name\n",
    "        "
   ]
  },
  {
   "cell_type": "code",
   "execution_count": 52,
   "metadata": {
    "collapsed": true
   },
   "outputs": [],
   "source": [
    "student = Student(\"zzsza\")"
   ]
  },
  {
   "cell_type": "code",
   "execution_count": 53,
   "metadata": {
    "collapsed": false
   },
   "outputs": [
    {
     "ename": "TypeError",
     "evalue": "'Student' object is not callable",
     "output_type": "error",
     "traceback": [
      "\u001b[1;31m---------------------------------------------------------------------------\u001b[0m",
      "\u001b[1;31mTypeError\u001b[0m                                 Traceback (most recent call last)",
      "\u001b[1;32m<ipython-input-53-90fffda3f809>\u001b[0m in \u001b[0;36m<module>\u001b[1;34m()\u001b[0m\n\u001b[1;32m----> 1\u001b[1;33m \u001b[0mstudent\u001b[0m\u001b[1;33m(\u001b[0m\u001b[1;33m)\u001b[0m\u001b[1;33m\u001b[0m\u001b[0m\n\u001b[0m",
      "\u001b[1;31mTypeError\u001b[0m: 'Student' object is not callable"
     ]
    }
   ],
   "source": [
    "student() # 오류가 당연히 남"
   ]
  },
  {
   "cell_type": "code",
   "execution_count": null,
   "metadata": {
    "collapsed": true
   },
   "outputs": [],
   "source": []
  },
  {
   "cell_type": "code",
   "execution_count": 57,
   "metadata": {
    "collapsed": true
   },
   "outputs": [],
   "source": [
    "class HelloWorld():\n",
    "    \n",
    "    def __init__(self):\n",
    "        print(\"init\")\n",
    "        \n",
    "    def __call__(self):\n",
    "        print(\"hello world\")"
   ]
  },
  {
   "cell_type": "code",
   "execution_count": 58,
   "metadata": {
    "collapsed": false
   },
   "outputs": [
    {
     "name": "stdout",
     "output_type": "stream",
     "text": [
      "init\n"
     ]
    }
   ],
   "source": [
    "helloword = HelloWorld()"
   ]
  },
  {
   "cell_type": "code",
   "execution_count": 60,
   "metadata": {
    "collapsed": false
   },
   "outputs": [
    {
     "name": "stdout",
     "output_type": "stream",
     "text": [
      "hello world\n"
     ]
    }
   ],
   "source": [
    "helloword() # __call__을 하기 전엔 오류, 하면 \"hello world\""
   ]
  },
  {
   "cell_type": "code",
   "execution_count": 61,
   "metadata": {
    "collapsed": false
   },
   "outputs": [
    {
     "data": {
      "text/plain": [
       "['__call__',\n",
       " '__class__',\n",
       " '__delattr__',\n",
       " '__dict__',\n",
       " '__dir__',\n",
       " '__doc__',\n",
       " '__eq__',\n",
       " '__format__',\n",
       " '__ge__',\n",
       " '__getattribute__',\n",
       " '__gt__',\n",
       " '__hash__',\n",
       " '__init__',\n",
       " '__le__',\n",
       " '__lt__',\n",
       " '__module__',\n",
       " '__ne__',\n",
       " '__new__',\n",
       " '__reduce__',\n",
       " '__reduce_ex__',\n",
       " '__repr__',\n",
       " '__setattr__',\n",
       " '__sizeof__',\n",
       " '__str__',\n",
       " '__subclasshook__',\n",
       " '__weakref__']"
      ]
     },
     "execution_count": 61,
     "metadata": {},
     "output_type": "execute_result"
    }
   ],
   "source": [
    "dir(helloword)"
   ]
  },
  {
   "cell_type": "code",
   "execution_count": 66,
   "metadata": {
    "collapsed": true
   },
   "outputs": [],
   "source": [
    "cache = {}\n",
    "\n",
    "def factorial(n):\n",
    "    \n",
    "    if n <= 1:\n",
    "        \n",
    "        result = cache[n] = 1\n",
    "        return result\n",
    "    \n",
    "    if n in cache:\n",
    "        return cache[n]\n",
    "\n",
    "    result = n * factorial(n-1)\n",
    "    cache[n] = result\n",
    "    return result"
   ]
  },
  {
   "cell_type": "code",
   "execution_count": 67,
   "metadata": {
    "collapsed": false
   },
   "outputs": [
    {
     "data": {
      "text/plain": [
       "3628800"
      ]
     },
     "execution_count": 67,
     "metadata": {},
     "output_type": "execute_result"
    }
   ],
   "source": [
    "factorial(10)"
   ]
  },
  {
   "cell_type": "code",
   "execution_count": 68,
   "metadata": {
    "collapsed": false
   },
   "outputs": [
    {
     "data": {
      "text/plain": [
       "{1: 1,\n",
       " 2: 2,\n",
       " 3: 6,\n",
       " 4: 24,\n",
       " 5: 120,\n",
       " 6: 720,\n",
       " 7: 5040,\n",
       " 8: 40320,\n",
       " 9: 362880,\n",
       " 10: 3628800}"
      ]
     },
     "execution_count": 68,
     "metadata": {},
     "output_type": "execute_result"
    }
   ],
   "source": [
    "cache"
   ]
  },
  {
   "cell_type": "code",
   "execution_count": 89,
   "metadata": {
    "collapsed": true
   },
   "outputs": [],
   "source": [
    "class Factorial():\n",
    "    \n",
    "    def __init__(self): # 클래스 객체가 초기화될 때 실행되는 메소드\n",
    "        self.cache = {}\n",
    "    \n",
    "    def __call__(self, n): # 클래스 객체가 함수처럼 불릴 때 실행되는 메소드\n",
    "        if n <= 1:\n",
    "            result = self.cache[n] = 1\n",
    "            return result\n",
    "\n",
    "        if n in self.cache:\n",
    "            return self.cache[n]\n",
    "\n",
    "        result = n * self.__call__(n-1)\n",
    "        self.cache[n] = result\n",
    "        return result\n",
    "\n",
    "    \n",
    "    def __str__(self): # 클래스 객체를 print할 때 실행되는 메소드\n",
    "        return \"\\n\".join([\n",
    "                \"{key}! == {value}\".format(key=key, value=value)\n",
    "                for key, value\n",
    "                in self.cache.items()\n",
    "            ])"
   ]
  },
  {
   "cell_type": "code",
   "execution_count": 90,
   "metadata": {
    "collapsed": true
   },
   "outputs": [],
   "source": [
    "factorial = Factorial()"
   ]
  },
  {
   "cell_type": "code",
   "execution_count": 91,
   "metadata": {
    "collapsed": false
   },
   "outputs": [
    {
     "data": {
      "text/plain": [
       "{1: 1, 2: 2, 3: 6}"
      ]
     },
     "execution_count": 91,
     "metadata": {},
     "output_type": "execute_result"
    }
   ],
   "source": [
    "factorial(3)\n",
    "factorial.cache"
   ]
  },
  {
   "cell_type": "code",
   "execution_count": 92,
   "metadata": {
    "collapsed": false
   },
   "outputs": [
    {
     "name": "stdout",
     "output_type": "stream",
     "text": [
      "1! == 1\n",
      "2! == 2\n",
      "3! == 6\n"
     ]
    }
   ],
   "source": [
    "print(factorial)"
   ]
  },
  {
   "cell_type": "code",
   "execution_count": null,
   "metadata": {
    "collapsed": true
   },
   "outputs": [],
   "source": []
  },
  {
   "cell_type": "code",
   "execution_count": null,
   "metadata": {
    "collapsed": true
   },
   "outputs": [],
   "source": []
  }
 ],
 "metadata": {
  "kernelspec": {
   "display_name": "Python 3",
   "language": "python",
   "name": "python3"
  },
  "language_info": {
   "codemirror_mode": {
    "name": "ipython",
    "version": 3
   },
   "file_extension": ".py",
   "mimetype": "text/x-python",
   "name": "python",
   "nbconvert_exporter": "python",
   "pygments_lexer": "ipython3",
   "version": "3.5.1"
  }
 },
 "nbformat": 4,
 "nbformat_minor": 0
}
