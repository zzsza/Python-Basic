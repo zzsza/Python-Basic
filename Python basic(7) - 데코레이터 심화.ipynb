{
 "cells": [
  {
   "cell_type": "markdown",
   "metadata": {
    "collapsed": true
   },
   "source": [
    "# 데코레이터 심화"
   ]
  },
  {
   "cell_type": "code",
   "execution_count": 82,
   "metadata": {
    "collapsed": true
   },
   "outputs": [],
   "source": [
    "@fridge\n",
    "def put_fridge(food):\n",
    "    print(\"{food}를 냉장고에 넣는다.\".format(food=food))"
   ]
  },
  {
   "cell_type": "code",
   "execution_count": 2,
   "metadata": {
    "collapsed": true
   },
   "outputs": [],
   "source": [
    "def fridge(function):\n",
    "    def wrapper(*args, **kwargs):\n",
    "        print(\"냉장고를 연다.\")\n",
    "        function(*args, **kwargs)\n",
    "        print(\"냉장고를 닫는다.\")\n",
    "    return wrapper"
   ]
  },
  {
   "cell_type": "code",
   "execution_count": 4,
   "metadata": {
    "collapsed": false
   },
   "outputs": [
    {
     "name": "stdout",
     "output_type": "stream",
     "text": [
      "냉장고를 연다.\n",
      "바나나를 냉장고에 넣는다.\n",
      "냉장고를 닫는다.\n"
     ]
    }
   ],
   "source": [
    "put_fridge(\"바나나\")"
   ]
  },
  {
   "cell_type": "code",
   "execution_count": 6,
   "metadata": {
    "collapsed": true
   },
   "outputs": [],
   "source": [
    "# before_execute => ___함수를 시작합니다\n",
    "# after_execute => ___함수를 종료합니다\n",
    "# timer => ___s초 걸렸습니다\n",
    "\n",
    "#  something(...) 하면\n",
    "#  실행합니다\n",
    "#  ...\n",
    "#  종료합니다\n",
    "#  함수를 실행하는데 s 걸렸습니다\n",
    "\n",
    "# 이 순서로 나오게 코딩해보세요"
   ]
  },
  {
   "cell_type": "code",
   "execution_count": 17,
   "metadata": {
    "collapsed": true
   },
   "outputs": [],
   "source": [
    "import time"
   ]
  },
  {
   "cell_type": "code",
   "execution_count": 26,
   "metadata": {
    "collapsed": true
   },
   "outputs": [],
   "source": [
    "def before_execute(function):\n",
    "    def wrapper(*args, **kwargs):\n",
    "        print(\"@before_execute\")\n",
    "        print(\"{function} 함수를 시작합니다.\".format(function=function))\n",
    "        function(*args, **kwargs)\n",
    "    return wrapper"
   ]
  },
  {
   "cell_type": "code",
   "execution_count": 27,
   "metadata": {
    "collapsed": true
   },
   "outputs": [],
   "source": [
    "def after_execute(function):\n",
    "    def wrapper(*args, **kwargs):\n",
    "        print(\"@after_execute\")\n",
    "        result = function(*args, **kwargs)\n",
    "        print(\"{function} 함수를 종료합니다.\".format(function=function))\n",
    "        return result # 여기서 리턴해야 실행이 됨\n",
    "    return wrapper"
   ]
  },
  {
   "cell_type": "code",
   "execution_count": 31,
   "metadata": {
    "collapsed": true
   },
   "outputs": [],
   "source": [
    "def timer(function):\n",
    "    def wrapper(*args, **kwargs):\n",
    "        start_time = time.time()\n",
    "        result = function(*args, **kwargs)\n",
    "        end_time = time.time()\n",
    "        print(\"{time}s 걸렸습니다.\".format(time=end_time-start_time))\n",
    "        return result\n",
    "    return wrapper"
   ]
  },
  {
   "cell_type": "code",
   "execution_count": 34,
   "metadata": {
    "collapsed": true
   },
   "outputs": [],
   "source": [
    "@before_execute\n",
    "@after_execute\n",
    "@timer\n",
    "def something(x):\n",
    "    return x"
   ]
  },
  {
   "cell_type": "code",
   "execution_count": 35,
   "metadata": {
    "collapsed": false
   },
   "outputs": [
    {
     "name": "stdout",
     "output_type": "stream",
     "text": [
      "@before_execute\n",
      "<function after_execute.<locals>.wrapper at 0x0000022FF4709F28> 함수를 시작합니다.\n",
      "@after_execute\n",
      "0.0s 걸렸습니다.\n",
      "<function timer.<locals>.wrapper at 0x0000022FF4709BF8> 함수를 종료합니다.\n"
     ]
    }
   ],
   "source": [
    "something(1)"
   ]
  },
  {
   "cell_type": "code",
   "execution_count": 36,
   "metadata": {
    "collapsed": true
   },
   "outputs": [],
   "source": [
    "# 데코레이터는 밑에서부터 한차례 한차례 맵핑된다고 생각하면 됨"
   ]
  },
  {
   "cell_type": "code",
   "execution_count": 64,
   "metadata": {
    "collapsed": true
   },
   "outputs": [],
   "source": [
    "@bold\n",
    "@italic\n",
    "def introduce(name, course):\n",
    "    return \"안녕하세요. 저는 {name}입니다. {course}에서 공부하고 있습니다.\".format(\n",
    "        name=name, course=course\n",
    "    )"
   ]
  },
  {
   "cell_type": "code",
   "execution_count": 65,
   "metadata": {
    "collapsed": true
   },
   "outputs": [],
   "source": [
    "# 웹프스라면 태그(<p>)로 묶어주는 데코레이터를 많이 만들곤 함\n",
    "# + 이탤릭체, 볼드체 \n",
    "# 데사스라면 핸드폰 번호를 자동으로 전처리 해주는 그런 것\n"
   ]
  },
  {
   "cell_type": "code",
   "execution_count": 66,
   "metadata": {
    "collapsed": true
   },
   "outputs": [],
   "source": [
    "# @bold\n",
    "# @italic => <b><i> .. </i></b>"
   ]
  },
  {
   "cell_type": "code",
   "execution_count": 67,
   "metadata": {
    "collapsed": false
   },
   "outputs": [],
   "source": [
    "def bold(funtion):\n",
    "    def wrapper(*args, **kwargs):\n",
    "        return \"<b>{text}</b>\".format(\n",
    "            text=funtion(*args, **kwargs))\n",
    "    return wrapper"
   ]
  },
  {
   "cell_type": "code",
   "execution_count": 68,
   "metadata": {
    "collapsed": true
   },
   "outputs": [],
   "source": [
    "def italic(funtion):\n",
    "    def wrapper(*args, **kwargs):\n",
    "        return \"<i>{text}</i>\".format(\n",
    "            text=funtion(*args, **kwargs))\n",
    "    return wrapper"
   ]
  },
  {
   "cell_type": "code",
   "execution_count": 69,
   "metadata": {
    "collapsed": false
   },
   "outputs": [
    {
     "data": {
      "text/plain": [
       "'<b><i>안녕하세요. 저는 변성윤입니다. 데사스에서 공부하고 있습니다.</i></b>'"
      ]
     },
     "execution_count": 69,
     "metadata": {},
     "output_type": "execute_result"
    }
   ],
   "source": [
    "introduce(\"변성윤\", \"데사스\")"
   ]
  },
  {
   "cell_type": "code",
   "execution_count": 79,
   "metadata": {
    "collapsed": true
   },
   "outputs": [],
   "source": [
    "def prettify(function):\n",
    "    def wrapper(*args, **kwargs):\n",
    "        result = function(*args, **kwargs)\n",
    "        return result.replace(\"일\", \"1\").replace(\"이\", \"2\")\n",
    "    return wrapper\n",
    "# 지금은 replace지만 나중에 for문을 돌릴 것!!"
   ]
  },
  {
   "cell_type": "code",
   "execution_count": 80,
   "metadata": {
    "collapsed": true
   },
   "outputs": [],
   "source": [
    "@prettify\n",
    "def crawl_phonenumber(naver_cafe_name, naver_cafe_post_id):\n",
    "    # 어떤 식으로 크롤링이 되어서\n",
    "    return \"010-2221-일일일일\""
   ]
  },
  {
   "cell_type": "code",
   "execution_count": 81,
   "metadata": {
    "collapsed": false
   },
   "outputs": [
    {
     "data": {
      "text/plain": [
       "'010-2221-1111'"
      ]
     },
     "execution_count": 81,
     "metadata": {},
     "output_type": "execute_result"
    }
   ],
   "source": [
    "crawl_phonenumber(\"중고나라\",\"35678\")"
   ]
  },
  {
   "cell_type": "code",
   "execution_count": null,
   "metadata": {
    "collapsed": true
   },
   "outputs": [],
   "source": []
  }
 ],
 "metadata": {
  "kernelspec": {
   "display_name": "Python 3",
   "language": "python",
   "name": "python3"
  },
  "language_info": {
   "codemirror_mode": {
    "name": "ipython",
    "version": 3
   },
   "file_extension": ".py",
   "mimetype": "text/x-python",
   "name": "python",
   "nbconvert_exporter": "python",
   "pygments_lexer": "ipython3",
   "version": "3.5.1"
  }
 },
 "nbformat": 4,
 "nbformat_minor": 0
}
